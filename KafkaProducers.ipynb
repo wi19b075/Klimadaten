{
 "cells": [
  {
   "cell_type": "markdown",
   "metadata": {},
   "source": [
    "# Data Science Infrastructure - Kafka\n",
    "\n",
    "This iPython notebooks comprises verious Kafka producers for demo reasons.\n",
    "\n",
    "**Important remark: Not to be published, as it contains my access data to the Twitter developer API.**"
   ]
  },
  {
   "cell_type": "markdown",
   "metadata": {},
   "source": [
    "## Kafka Producer for self-defined streams\n",
    "\n",
    "We need to install this library:\n",
    "* python3 -m pip install kafka"
   ]
  },
  {
   "cell_type": "code",
   "execution_count": 1,
   "metadata": {},
   "outputs": [
    {
     "name": "stdout",
     "output_type": "stream",
     "text": [
      "Collecting kafka-python\n",
      "  Downloading kafka_python-2.0.2-py2.py3-none-any.whl (246 kB)\n",
      "\u001b[2K     \u001b[90m━━━━━━━━━━━━━━━━━━━━━━━━━━━━━━━━━━━━━\u001b[0m \u001b[32m246.5/246.5 kB\u001b[0m \u001b[31m601.4 kB/s\u001b[0m eta \u001b[36m0:00:00\u001b[0m00:01\u001b[0m00:01\u001b[0m\n",
      "\u001b[?25hInstalling collected packages: kafka-python\n",
      "Successfully installed kafka-python-2.0.2\n"
     ]
    }
   ],
   "source": [
    "!pip install kafka-python"
   ]
  },
  {
   "cell_type": "code",
   "execution_count": 2,
   "metadata": {},
   "outputs": [],
   "source": [
    "# load important libraries\n",
    "from time import sleep\n",
    "from json import dumps\n",
    "from kafka import KafkaProducer"
   ]
  },
  {
   "cell_type": "code",
   "execution_count": 9,
   "metadata": {},
   "outputs": [],
   "source": [
    "# create producer\n",
    "producer = KafkaProducer(bootstrap_servers=['kafka:9092'],\n",
    "                         value_serializer=lambda x: dumps(x).encode('utf-8'))"
   ]
  },
  {
   "cell_type": "code",
   "execution_count": 10,
   "metadata": {},
   "outputs": [
    {
     "name": "stdout",
     "output_type": "stream",
     "text": [
      "streaming:  {'number': 0}\n",
      "streaming:  {'number': 1}\n",
      "streaming:  {'number': 2}\n",
      "streaming:  {'number': 3}\n",
      "streaming:  {'number': 4}\n",
      "streaming:  {'number': 5}\n",
      "streaming:  {'number': 6}\n",
      "streaming:  {'number': 7}\n",
      "streaming:  {'number': 8}\n",
      "streaming:  {'number': 9}\n"
     ]
    },
    {
     "ename": "KeyboardInterrupt",
     "evalue": "",
     "output_type": "error",
     "traceback": [
      "\u001b[0;31m---------------------------------------------------------------------------\u001b[0m",
      "\u001b[0;31mKeyboardInterrupt\u001b[0m                         Traceback (most recent call last)",
      "Input \u001b[0;32mIn [10]\u001b[0m, in \u001b[0;36m<cell line: 3>\u001b[0;34m()\u001b[0m\n\u001b[1;32m      5\u001b[0m \u001b[38;5;28mprint\u001b[39m(\u001b[38;5;124m'\u001b[39m\u001b[38;5;124mstreaming: \u001b[39m\u001b[38;5;124m'\u001b[39m, data)\n\u001b[1;32m      6\u001b[0m producer\u001b[38;5;241m.\u001b[39msend(\u001b[38;5;124m'\u001b[39m\u001b[38;5;124mtestTopic\u001b[39m\u001b[38;5;124m'\u001b[39m, value\u001b[38;5;241m=\u001b[39mdata)\n\u001b[0;32m----> 7\u001b[0m \u001b[43msleep\u001b[49m\u001b[43m(\u001b[49m\u001b[38;5;241;43m3\u001b[39;49m\u001b[43m)\u001b[49m\n",
      "\u001b[0;31mKeyboardInterrupt\u001b[0m: "
     ]
    }
   ],
   "source": [
    "# now write the numbers 1 to 1000 to an existing topic\n",
    "# (with a delay of 5 seconds)\n",
    "for e in range(1000):\n",
    "    data = {'number' : e}\n",
    "    print('streaming: ', data)\n",
    "    producer.send('testTopic', value=data)\n",
    "    sleep(3)"
   ]
  },
  {
   "cell_type": "code",
   "execution_count": 8,
   "metadata": {},
   "outputs": [],
   "source": [
    "# close connection\n",
    "producer.close()"
   ]
  },
  {
   "cell_type": "code",
   "execution_count": null,
   "metadata": {},
   "outputs": [],
   "source": []
  },
  {
   "cell_type": "markdown",
   "metadata": {},
   "source": [
    "## Kafka Producer for Twitter streams\n",
    "\n",
    "Requires to install the tweepy package:\n",
    "* python3 -m pip install tweepy"
   ]
  },
  {
   "cell_type": "code",
   "execution_count": null,
   "metadata": {},
   "outputs": [],
   "source": [
    "# import libraries\n",
    "from tweepy.streaming import StreamListener\n",
    "from tweepy import OAuthHandler\n",
    "from tweepy import Stream\n",
    "from kafka import SimpleProducer, KafkaClient"
   ]
  },
  {
   "cell_type": "code",
   "execution_count": null,
   "metadata": {},
   "outputs": [],
   "source": [
    "# you need a developer account at Twitter...\n",
    "#access_token = (get your own)\n",
    "#access_token_secret = (get your own)\n",
    "#consumer_key = (get your own)\n",
    "#consumer_secret = (get your own)\n",
    "\n",
    "# listener for writing to the standard out device\n",
    "class StdOutListener(StreamListener):\n",
    "    def on_data(self, data):\n",
    "        producer.send_messages(\"twitter\", data.encode('utf-8'))\n",
    "        return True\n",
    "    def on_error(self, status):\n",
    "        print (status)"
   ]
  },
  {
   "cell_type": "code",
   "execution_count": null,
   "metadata": {},
   "outputs": [],
   "source": [
    "# connect to Kafka broker and stream all 'trump' tweets\n",
    "kafka = KafkaClient(\"localhost:29092\")\n",
    "producer = SimpleProducer(kafka)\n",
    "l = StdOutListener()\n",
    "auth = OAuthHandler(consumer_key, consumer_secret)\n",
    "auth.set_access_token(access_token, access_token_secret)\n",
    "stream = Stream(auth, l)\n",
    "stream.filter(track=\"trump\")"
   ]
  },
  {
   "cell_type": "code",
   "execution_count": null,
   "metadata": {},
   "outputs": [],
   "source": [
    "stream.disconnect()"
   ]
  },
  {
   "cell_type": "markdown",
   "metadata": {},
   "source": [
    "We can check the stream using:\n",
    "- bin/kafka-console-consumer.sh --bootstrap-server 10.64.0.45:9092 --topic twitter --from-beginning"
   ]
  },
  {
   "cell_type": "code",
   "execution_count": null,
   "metadata": {},
   "outputs": [],
   "source": []
  },
  {
   "cell_type": "markdown",
   "metadata": {},
   "source": [
    "## Kafka Producer for stock prices (exam scenario)\n",
    "\n",
    "We have to install this library:\n",
    "* python3 -m pip install yahoo_fin\n",
    "* python3 -m pip install requests_html\n",
    "\n",
    "Also create the Kafka topic task1:\n",
    "* bin/kafka-topics.sh --create --zookeeper 10.64.0.45:2181 --replication-factor 1 --partitions 1 --topic task1"
   ]
  },
  {
   "cell_type": "code",
   "execution_count": null,
   "metadata": {},
   "outputs": [],
   "source": [
    "# load important libraries\n",
    "from datetime import datetime\n",
    "from time import sleep\n",
    "from json import dumps\n",
    "from kafka import KafkaProducer\n",
    "\n",
    "# import stock_info module via yahoo_fin\n",
    "from yahoo_fin import stock_info as si"
   ]
  },
  {
   "cell_type": "code",
   "execution_count": null,
   "metadata": {},
   "outputs": [],
   "source": [
    "# connect to Kafka broker and stream all share prices\n",
    "producer = KafkaProducer(bootstrap_servers=['localhost:29092'],\n",
    "                         value_serializer=lambda x: dumps(x).encode('utf-8'))\n",
    "for e in range(1000):\n",
    "    data = {'datetime': datetime.now().strftime(\"%d/%m/%Y %H:%M:%S\"), 'apple' : si.get_live_price(\"aapl\")}\n",
    "    print(data)\n",
    "    producer.send('task1', value=data)\n",
    "    sleep(10)"
   ]
  },
  {
   "cell_type": "code",
   "execution_count": null,
   "metadata": {},
   "outputs": [],
   "source": [
    "producer.close()"
   ]
  },
  {
   "cell_type": "code",
   "execution_count": null,
   "metadata": {},
   "outputs": [],
   "source": [
    "# Exam: Store 20 entries of the stock price in an interval of 1 minte to\n",
    "#       a Spark DataFrame and calculate 5-number-summary of the share price"
   ]
  },
  {
   "cell_type": "code",
   "execution_count": null,
   "metadata": {},
   "outputs": [],
   "source": []
  },
  {
   "cell_type": "markdown",
   "metadata": {},
   "source": [
    "## Producing events from Wikipedia\n",
    "\n",
    "To simulate an application generating events for Kafka, I created this simple Python producer application that reads events from Wikipedia and sends them to the wiki-changes Kafka topic.\n",
    "\n",
    "The message is serialized in JSON format to send to the Kafka topic. The library sseclient is required to read the source events and the kafka-python enables the Python to produce Kafka messages.\n",
    "\n",
    "* pip install sseclient\n",
    "* pip install kafka-python\n",
    "\n",
    "To observe the data stream use the command-line tool:\n",
    "\n",
    "* /usr/local/kafka/bin/kafka-console-consumer.sh --bootstrap-server localhost:9092 --topic wiki-changes"
   ]
  },
  {
   "cell_type": "code",
   "execution_count": null,
   "metadata": {},
   "outputs": [],
   "source": [
    "## Event Producer\n",
    "import json\n",
    "from IPython.display import clear_output\n",
    "from time import sleep\n",
    "from sseclient import SSEClient as EventSource\n",
    "from kafka import KafkaProducer\n",
    "\n",
    "# Create producer\n",
    "producer = KafkaProducer(\n",
    "    bootstrap_servers='localhost:9092', #Kafka server\n",
    "    value_serializer=lambda v: json.dumps(v).encode('utf-8') #json serializer\n",
    "    )\n",
    "\n",
    "# Read streaming event\n",
    "url = 'https://stream.wikimedia.org/v2/stream/recentchange'\n",
    "try:\n",
    "    for event in EventSource(url):\n",
    "        if event.event == 'message':\n",
    "            try:\n",
    "                change = json.loads(event.data)\n",
    "            except ValueError:\n",
    "                pass\n",
    "            else:\n",
    "                #Send msg to topic wiki-changes and wait 5 seconds\n",
    "                clear_output(wait=True)\n",
    "                print(\"captured a change: \", change)\n",
    "                producer.send('wiki-changes', change)\n",
    "                sleep(5)\n",
    "\n",
    "except KeyboardInterrupt:\n",
    "    print(\"process interrupted\")"
   ]
  },
  {
   "cell_type": "code",
   "execution_count": null,
   "metadata": {},
   "outputs": [],
   "source": []
  }
 ],
 "metadata": {
  "kernelspec": {
   "display_name": "Python 3 (ipykernel)",
   "language": "python",
   "name": "python3"
  },
  "language_info": {
   "codemirror_mode": {
    "name": "ipython",
    "version": 3
   },
   "file_extension": ".py",
   "mimetype": "text/x-python",
   "name": "python",
   "nbconvert_exporter": "python",
   "pygments_lexer": "ipython3",
   "version": "3.10.4"
  }
 },
 "nbformat": 4,
 "nbformat_minor": 4
}
