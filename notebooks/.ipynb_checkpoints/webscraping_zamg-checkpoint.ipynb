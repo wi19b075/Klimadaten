{
 "cells": [
  {
   "cell_type": "markdown",
   "id": "8569add2-6d90-4aee-bada-4b294f69a044",
   "metadata": {},
   "source": [
    "# Webscraping ZAMG Daten"
   ]
  },
  {
   "cell_type": "code",
   "execution_count": 8,
   "id": "efdfd54d-5196-4263-b5a9-d409e9876584",
   "metadata": {},
   "outputs": [],
   "source": [
    "from urllib.request import urlopen\n",
    "from bs4 import BeautifulSoup\n",
    "import re\n",
    "import csv\n",
    "#import psycopg2\n",
    "import pandas as pd\n",
    "import datetime as dt"
   ]
  },
  {
   "cell_type": "markdown",
   "id": "07dc4069-81c4-4caf-886a-2dd263c93aa8",
   "metadata": {},
   "source": [
    "Beispiel für Niederösterreich, es wird auch Burgenland gescrapt, Daten folgen noch:"
   ]
  },
  {
   "cell_type": "code",
   "execution_count": 9,
   "id": "6775aeab-43a7-43ac-86d5-1ca5d35e26ee",
   "metadata": {},
   "outputs": [],
   "source": [
    "html = urlopen('https://www.zamg.ac.at/cms/de/wetter/wetterwerte-analysen/niederoesterreich')\n",
    "bs = BeautifulSoup(html, 'html.parser')\n",
    "#print(bs)"
   ]
  },
  {
   "cell_type": "code",
   "execution_count": 10,
   "id": "fb385856-5c01-4ed7-b23f-ec8a7225380b",
   "metadata": {},
   "outputs": [],
   "source": [
    "table = bs.find('table', attrs={'class':'dynPageTable'})\n",
    "table_body = table.find('tbody')\n",
    "#print(table)"
   ]
  },
  {
   "cell_type": "code",
   "execution_count": 11,
   "id": "ff9e7f9c-4cb9-4feb-a477-c8e0fe203ff6",
   "metadata": {},
   "outputs": [],
   "source": [
    "data = []\n",
    "rows = bs.find_all(\"tr\", {\"class\": {\"dynPageTableLine2\", \"dynPageTableLine1\"}})\n",
    "#print(mydivs)\n",
    "for row in rows:\n",
    "    cols = row.find_all('td')\n",
    "    cols = [ele.text.strip() for ele in cols] # get rid of html elements\n",
    "    data.append([ele for ele in cols])"
   ]
  },
  {
   "cell_type": "code",
   "execution_count": 12,
   "id": "eedca069-2db6-47af-88ca-889844939ce1",
   "metadata": {},
   "outputs": [],
   "source": [
    "df = pd.DataFrame(data)\n",
    "df.columns = ['location', 'height', 'temp', 'hum', 'wind', 'wind_max', 'rain', 'sun', 'press' ]\n",
    "df['timestamp'] = pd.Series([dt.datetime.now().strftime(\"%Y-%m-%d %H:%M:%S\")] * len(df))"
   ]
  },
  {
   "cell_type": "code",
   "execution_count": 13,
   "id": "5d30138e-93db-4a59-bfaf-b5ad2ba3cc34",
   "metadata": {},
   "outputs": [],
   "source": [
    "df.to_csv('zamg.csv', sep=\";\", encoding=\"utf-8\", index=False, mode='a', header=False)"
   ]
  },
  {
   "cell_type": "code",
   "execution_count": null,
   "id": "514d11fd-1a11-4199-ba92-66b84ed9cb0b",
   "metadata": {},
   "outputs": [],
   "source": []
  },
  {
   "cell_type": "code",
   "execution_count": null,
   "id": "ddfe6ce4-188d-4b04-a0b0-6986084fd035",
   "metadata": {},
   "outputs": [],
   "source": []
  }
 ],
 "metadata": {
  "kernelspec": {
   "display_name": "Python 3 (ipykernel)",
   "language": "python",
   "name": "python3"
  },
  "language_info": {
   "codemirror_mode": {
    "name": "ipython",
    "version": 3
   },
   "file_extension": ".py",
   "mimetype": "text/x-python",
   "name": "python",
   "nbconvert_exporter": "python",
   "pygments_lexer": "ipython3",
   "version": "3.10.4"
  }
 },
 "nbformat": 4,
 "nbformat_minor": 5
}
