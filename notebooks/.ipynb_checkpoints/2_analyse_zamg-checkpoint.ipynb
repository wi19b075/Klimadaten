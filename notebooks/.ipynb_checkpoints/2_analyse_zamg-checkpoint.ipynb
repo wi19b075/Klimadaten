{
 "cells": [
  {
   "cell_type": "markdown",
   "id": "32138a27-1bfd-4c61-b5fc-e95201adf036",
   "metadata": {},
   "source": [
    "# Analyse ZAMG Daten mit Spark"
   ]
  },
  {
   "cell_type": "markdown",
   "id": "7f24f43d-3e12-444c-a1d9-1194ab67fc00",
   "metadata": {},
   "source": [
    "## Burgenland"
   ]
  },
  {
   "cell_type": "markdown",
   "id": "6158d820-37e0-4457-82d2-7c282be71a0a",
   "metadata": {},
   "source": [
    "### Bereinigung\n",
    "Die Wetterdaten werden nun bereinigt und für die spätere Analyse vorbereitet. Zunächst werden die notwenigen Libraries importiert.\n"
   ]
  },
  {
   "cell_type": "code",
   "execution_count": 1,
   "id": "ad456a49-e11b-4a9b-8744-fa64d492bf43",
   "metadata": {},
   "outputs": [],
   "source": [
    "from pyspark.sql import SparkSession\n",
    "from pyspark.sql.functions import *\n",
    "\n",
    "import pandas as pd\n",
    "\n",
    "import matplotlib\n",
    "import matplotlib.pyplot as plt\n",
    "import seaborn as sns\n"
   ]
  },
  {
   "cell_type": "markdown",
   "id": "b63dbbf6-cfb8-4a0a-8a22-fd981e607440",
   "metadata": {},
   "source": [
    "Mithilfe von Spark werden die Daten eingelesen, neue Namen für die Spalten werden vergeben sowie eine Überprüfung auf \"null\" Werte der interessierenden Variablen \"location\", \"timestamp\", \"deg\" und \"rain\" durchgeführt."
   ]
  },
  {
   "cell_type": "code",
   "execution_count": 2,
   "id": "98a6770e-3c2c-48ae-8d33-76b14aa2b96f",
   "metadata": {},
   "outputs": [
    {
     "name": "stdout",
     "output_type": "stream",
     "text": [
      "before drop NA-values: 11352\n",
      "after drop NA-values: 11352\n",
      "root\n",
      " |-- location: string (nullable = true)\n",
      " |-- alt: string (nullable = true)\n",
      " |-- deg: string (nullable = true)\n",
      " |-- hum: string (nullable = true)\n",
      " |-- wind_speed: string (nullable = true)\n",
      " |-- wind_speed_max: string (nullable = true)\n",
      " |-- rain: string (nullable = true)\n",
      " |-- sun: string (nullable = true)\n",
      " |-- press: string (nullable = true)\n",
      " |-- timestamp: string (nullable = true)\n",
      "\n",
      "+-----------------+----+-----+----+---------------+--------------+------+-----+----------+-------------------+\n",
      "|         location| alt|  deg| hum|     wind_speed|wind_speed_max|  rain|  sun|     press|          timestamp|\n",
      "+-----------------+----+-----+----+---------------+--------------+------+-----+----------+-------------------+\n",
      "|     Bruckneudorf|166m|21.1°|46 %| Südost, 9 km/h|       25 km/h|0.0 mm| 28 %|1007.0 hPa|2022-05-23 19:50:03|\n",
      "|  Neusiedl am See|119m|21.4°|49 %|   Süd, 11 km/h|       27 km/h|0.0 mm| 32 %|1007.3 hPa|2022-05-23 19:50:03|\n",
      "|       Podersdorf|116m|21.8°|44 %|   Süd, 10 km/h|       31 km/h|0.0 mm| 41 %|      n.v.|2022-05-23 19:50:03|\n",
      "|       Eisenstadt|182m|21.6°|45 %|Südost, 19 km/h|       36 km/h|0.0 mm| 97 %|1006.5 hPa|2022-05-23 19:50:03|\n",
      "|            Andau|119m|21.0°|50 %|Südost, 16 km/h|       24 km/h|0.0 mm| 46 %|1007.8 hPa|2022-05-23 19:50:03|\n",
      "|      Mattersburg|284m|20.4°|50 %|   Süd, 13 km/h|       32 km/h|0.0 mm| 43 %|1006.3 hPa|2022-05-23 19:50:03|\n",
      "|  Neudorf/Landsee|429m|18.9°|57 %|   Süd, 12 km/h|       28 km/h|0.0 mm| 71 %|      n.v.|2022-05-23 19:50:03|\n",
      "|    Lutzmannsburg|200m|21.2°|49 %| Südost, 7 km/h|       21 km/h|0.0 mm|100 %|1007.3 hPa|2022-05-23 19:50:03|\n",
      "|        Bernstein|633m|17.9°|63 %|    Süd, 8 km/h|       23 km/h|0.0 mm| 82 %|1007.3 hPa|2022-05-23 19:50:03|\n",
      "|         Rechnitz|309m|20.6°|52 %|   Süd, 11 km/h|       19 km/h|0.0 mm| 59 %|1007.7 hPa|2022-05-23 19:50:03|\n",
      "|Bad Tatzmannsdorf|347m|20.1°|55 %|    Süd, 6 km/h|       16 km/h|0.0 mm| n.v.|      n.v.|2022-05-23 19:50:03|\n",
      "|         Kroisegg|446m|19.7°|60 %|    Süd, 6 km/h|       19 km/h|0.0 mm| 93 %|1007.3 hPa|2022-05-23 19:50:03|\n",
      "|      Kleinzicken|267m|20.8°|51 %|    Süd, 7 km/h|       19 km/h|0.0 mm| 63 %|1007.6 hPa|2022-05-23 19:50:03|\n",
      "|       Wörterberg|404m|19.6°|57 %|    Süd, 7 km/h|       19 km/h|0.0 mm| 94 %|1007.2 hPa|2022-05-23 19:50:03|\n",
      "|          Güssing|217m|21.6°|51 %| Südost, 6 km/h|       16 km/h|0.0 mm| 79 %|1007.2 hPa|2022-05-23 19:50:03|\n",
      "|     Bruckneudorf|166m|20.2°|46 %|Südost, 10 km/h|       25 km/h|0.0 mm| 28 %|1007.3 hPa|2022-05-23 20:50:04|\n",
      "|  Neusiedl am See|119m|20.4°|47 %| Südost, 9 km/h|       23 km/h|0.0 mm| 14 %|1007.6 hPa|2022-05-23 20:50:04|\n",
      "|       Podersdorf|116m|20.9°|47 %|Südost, 12 km/h|       27 km/h|0.0 mm| 32 %|      n.v.|2022-05-23 20:50:04|\n",
      "|       Eisenstadt|182m|20.4°|49 %|   Ost, 16 km/h|       28 km/h|0.0 mm| 36 %|1006.8 hPa|2022-05-23 20:50:04|\n",
      "|            Andau|119m|20.2°|51 %|Südost, 13 km/h|       22 km/h|0.0 mm| 19 %|1008.2 hPa|2022-05-23 20:50:04|\n",
      "+-----------------+----+-----+----+---------------+--------------+------+-----+----------+-------------------+\n",
      "only showing top 20 rows\n",
      "\n"
     ]
    }
   ],
   "source": [
    "spark = SparkSession \\\n",
    "    .builder \\\n",
    "    .appName(\"Read Data\") \\\n",
    "    .getOrCreate()\n",
    "\n",
    "bl_raw = spark.read.option(\"delimiter\", \";\").csv(\"../data/zamg/zamg_burgenland.csv\")\n",
    "column_names=[\"location\",\"alt\",'deg', 'hum', 'wind_speed', 'wind_speed_max', 'rain', 'sun', 'press', 'timestamp']\n",
    "bl_raw = bl_raw.toDF(*column_names)\n",
    "print('before drop NA-values: ' + str(bl_raw.count()))\n",
    "bl_raw = bl_raw.na.drop(subset=[\"location\",\"timestamp\",\"deg\",\"rain\"])\n",
    "print('after drop NA-values: ' + str(bl_raw.count()))\n",
    "bl_raw.printSchema()\n",
    "bl_raw.show()"
   ]
  },
  {
   "cell_type": "markdown",
   "id": "00e0ca4b-de40-4b9a-9639-dc1c2b2868e1",
   "metadata": {},
   "source": [
    "Im nächsten Schritt werden die Daten weiter bearbeitet: Temperatur und Regen als Double gecastet, die Spalte timestamp als Timestamp gecastet."
   ]
  },
  {
   "cell_type": "code",
   "execution_count": 3,
   "id": "e0752657-678e-49f5-9d7c-ba2aceb361a2",
   "metadata": {},
   "outputs": [
    {
     "name": "stdout",
     "output_type": "stream",
     "text": [
      "root\n",
      " |-- location: string (nullable = true)\n",
      " |-- deg: double (nullable = true)\n",
      " |-- rain: double (nullable = true)\n",
      " |-- timestamp: timestamp (nullable = true)\n",
      "\n",
      "+-----------------+----+----+-------------------+\n",
      "|         location| deg|rain|          timestamp|\n",
      "+-----------------+----+----+-------------------+\n",
      "|     Bruckneudorf|21.1| 0.0|2022-05-23 19:50:03|\n",
      "|  Neusiedl am See|21.4| 0.0|2022-05-23 19:50:03|\n",
      "|       Podersdorf|21.8| 0.0|2022-05-23 19:50:03|\n",
      "|       Eisenstadt|21.6| 0.0|2022-05-23 19:50:03|\n",
      "|            Andau|21.0| 0.0|2022-05-23 19:50:03|\n",
      "|      Mattersburg|20.4| 0.0|2022-05-23 19:50:03|\n",
      "|  Neudorf/Landsee|18.9| 0.0|2022-05-23 19:50:03|\n",
      "|    Lutzmannsburg|21.2| 0.0|2022-05-23 19:50:03|\n",
      "|        Bernstein|17.9| 0.0|2022-05-23 19:50:03|\n",
      "|         Rechnitz|20.6| 0.0|2022-05-23 19:50:03|\n",
      "|Bad Tatzmannsdorf|20.1| 0.0|2022-05-23 19:50:03|\n",
      "|         Kroisegg|19.7| 0.0|2022-05-23 19:50:03|\n",
      "|      Kleinzicken|20.8| 0.0|2022-05-23 19:50:03|\n",
      "|       Wörterberg|19.6| 0.0|2022-05-23 19:50:03|\n",
      "|          Güssing|21.6| 0.0|2022-05-23 19:50:03|\n",
      "|     Bruckneudorf|20.2| 0.0|2022-05-23 20:50:04|\n",
      "|  Neusiedl am See|20.4| 0.0|2022-05-23 20:50:04|\n",
      "|       Podersdorf|20.9| 0.0|2022-05-23 20:50:04|\n",
      "|       Eisenstadt|20.4| 0.0|2022-05-23 20:50:04|\n",
      "|            Andau|20.2| 0.0|2022-05-23 20:50:04|\n",
      "+-----------------+----+----+-------------------+\n",
      "only showing top 20 rows\n",
      "\n"
     ]
    }
   ],
   "source": [
    "# convert strings to correct datatypes\n",
    "## datetime\n",
    "bl = bl_raw.select(col(\"location\") \\\n",
    "          , substring_index(col(\"deg\"), \"°\", 1).cast('double').alias(\"deg\")  \\\n",
    "          , substring_index(col(\"rain\"), \" mm\", 1).cast('double').alias(\"rain\")  \\\n",
    "          , to_timestamp(col(\"timestamp\"),\"yyyy-MM-dd HH:mm:ss\").alias(\"timestamp\"))\n",
    "bl.printSchema()\n",
    "bl.show()"
   ]
  },
  {
   "cell_type": "markdown",
   "id": "531f1fbf-05eb-4fe0-b5a1-a28fa65e67a0",
   "metadata": {},
   "source": [
    "Ein erster Eindruck über den gesamten Zeitraum für alle Daten:"
   ]
  },
  {
   "cell_type": "code",
   "execution_count": 4,
   "id": "fb575dfc-e21e-4e28-85d1-8cfd96d809d0",
   "metadata": {},
   "outputs": [
    {
     "name": "stdout",
     "output_type": "stream",
     "text": [
      "+-----------------+------------------+------------------+-------------------+-------------------+\n",
      "|         location|         sum(rain)|          avg(deg)|     min(timestamp)|     max(timestamp)|\n",
      "+-----------------+------------------+------------------+-------------------+-------------------+\n",
      "|  Neudorf/Landsee|123.89999999999995|18.451915455746377|2022-05-23 19:50:03|2022-06-24 07:50:04|\n",
      "|          Güssing| 160.1999999999999| 19.48454425363276|2022-05-23 19:50:03|2022-06-24 07:50:04|\n",
      "|       Wörterberg|115.59999999999998|18.441479524438588|2022-05-23 19:50:03|2022-06-24 07:50:04|\n",
      "|Bad Tatzmannsdorf|128.09999999999997|18.893923381770154|2022-05-23 19:50:03|2022-06-24 07:50:04|\n",
      "|        Bernstein|154.49999999999997|17.202113606340813|2022-05-23 19:50:03|2022-06-24 07:50:04|\n",
      "|    Lutzmannsburg|158.19999999999996|19.224570673712012|2022-05-23 19:50:03|2022-06-24 07:50:04|\n",
      "|      Mattersburg|121.39999999999995|19.178731836195507|2022-05-23 19:50:03|2022-06-24 07:50:04|\n",
      "|         Rechnitz|159.89999999999998|19.031968295904885|2022-05-23 19:50:03|2022-06-24 07:50:04|\n",
      "|         Kroisegg| 196.0999999999999| 17.95231175693527|2022-05-23 19:50:03|2022-06-24 07:50:04|\n",
      "|      Kleinzicken|113.09999999999994|18.942404227212695|2022-05-23 19:50:03|2022-06-24 07:50:04|\n",
      "|  Neusiedl am See| 65.19999999999999| 19.94018567639256|2022-05-23 19:50:03|2022-06-24 07:50:04|\n",
      "|            Andau|104.39999999999995|19.956671070013215|2022-05-23 19:50:03|2022-06-24 07:50:04|\n",
      "|     Bruckneudorf| 62.90000000000001| 19.63764861294582|2022-05-23 19:50:03|2022-06-24 07:50:04|\n",
      "|       Podersdorf| 74.29999999999998|20.218169761273217|2022-05-23 19:50:03|2022-06-24 07:50:04|\n",
      "|       Eisenstadt| 81.49999999999997| 19.70819022457066|2022-05-23 19:50:03|2022-06-24 07:50:04|\n",
      "+-----------------+------------------+------------------+-------------------+-------------------+\n",
      "\n"
     ]
    }
   ],
   "source": [
    "bl.groupBy(\"location\").agg(sum(\"rain\"),avg('deg'),min('timestamp'),max('timestamp')).show()"
   ]
  },
  {
   "cell_type": "markdown",
   "id": "4b1ee747-aa52-4188-b565-f9d1be8f5d90",
   "metadata": {},
   "source": [
    "### Umrechnen auf Tageswerte\n",
    "\n",
    "Bei der weiteren Bearbeitung setzen wir erneut die Spaltennamen neu, gruppieren nach den Stationen und bilden nun die Regensumme pro Tag sowie die Durchschnittstemperatur pro Tag, damit wir diese Werte im späteren Verlauf den Daten aus ECAD gegenüberstellen können. "
   ]
  },
  {
   "cell_type": "code",
   "execution_count": 5,
   "id": "35d9fd51-cc2f-4905-a70f-c2494fa5f096",
   "metadata": {},
   "outputs": [
    {
     "name": "stdout",
     "output_type": "stream",
     "text": [
      "root\n",
      " |-- location: string (nullable = true)\n",
      " |-- date: date (nullable = true)\n",
      " |-- rain: double (nullable = true)\n",
      " |-- deg: double (nullable = true)\n",
      "\n",
      "+--------+----------+----+----+\n",
      "|location|      date|rain| deg|\n",
      "+--------+----------+----+----+\n",
      "|   Andau|2022-05-23| 0.0|19.1|\n",
      "|   Andau|2022-05-24| 7.9|18.7|\n",
      "|   Andau|2022-05-25| 1.8|17.6|\n",
      "|   Andau|2022-05-26| 0.2|18.4|\n",
      "|   Andau|2022-05-27| 0.0|21.2|\n",
      "|   Andau|2022-05-28| 0.0|17.2|\n",
      "|   Andau|2022-05-29| 0.0|12.9|\n",
      "|   Andau|2022-05-30| 0.0|14.3|\n",
      "|   Andau|2022-05-31| 0.0|16.8|\n",
      "|   Andau|2022-06-01|11.4|20.0|\n",
      "|   Andau|2022-06-02| 5.0|20.3|\n",
      "|   Andau|2022-06-03| 0.0|22.2|\n",
      "|   Andau|2022-06-04|10.9|24.5|\n",
      "|   Andau|2022-06-05| 0.0|22.9|\n",
      "|   Andau|2022-06-06|35.6|21.2|\n",
      "|   Andau|2022-06-07| 0.0|20.7|\n",
      "|   Andau|2022-06-08|12.1|19.5|\n",
      "|   Andau|2022-06-09|14.0|18.2|\n",
      "|   Andau|2022-06-10| 0.5|18.3|\n",
      "|   Andau|2022-06-11| 0.0|21.2|\n",
      "+--------+----------+----+----+\n",
      "only showing top 20 rows\n",
      "\n"
     ]
    }
   ],
   "source": [
    "bl = bl.withColumn(\"date\",to_date(col(\"timestamp\")))\n",
    "blDay = bl.groupBy(\"location\", \"date\").agg(round(sum('rain'), 1), round(avg('deg'), 1))\n",
    "column_names=['location', 'date', 'rain', 'deg']\n",
    "blDay = blDay.toDF(*column_names).sort(\"location\", \"date\")\n",
    "\n",
    "blDay.printSchema()\n",
    "blDay.show()"
   ]
  },
  {
   "cell_type": "markdown",
   "id": "c2f52901-0fc8-458a-879e-3e9e196a8cda",
   "metadata": {},
   "source": [
    "Abschließend filtern wir noch die Stationen heraus, die wir uns später näher ansehen wollen: Güssing und Neusiedl am See und verbinden beide Selektionen zu einem Dataframe."
   ]
  },
  {
   "cell_type": "code",
   "execution_count": 6,
   "id": "05e1dd77-2555-4d4f-9fe0-dfeb57271a6f",
   "metadata": {},
   "outputs": [
    {
     "name": "stdout",
     "output_type": "stream",
     "text": [
      "+---------------+-----+\n",
      "|       location|count|\n",
      "+---------------+-----+\n",
      "|        Güssing|   33|\n",
      "|Neusiedl am See|   33|\n",
      "+---------------+-----+\n",
      "\n"
     ]
    }
   ],
   "source": [
    "# Filter data by location and join to one table\n",
    "guess = blDay.where(blDay[\"location\"] == \"Güssing\")\n",
    "neus =  blDay.where(blDay[\"location\"] == \"Neusiedl am See\")\n",
    "blUnion = guess.union(neus)\n",
    "blUnion.groupby('location').count().show()"
   ]
  },
  {
   "cell_type": "markdown",
   "id": "246913cd-b536-427d-82bd-10ffacd9571e",
   "metadata": {},
   "source": [
    "## Niederösterreich"
   ]
  },
  {
   "cell_type": "markdown",
   "id": "30af76ef-b75e-4e19-90b5-9841164e3689",
   "metadata": {},
   "source": [
    "### Bereinigung"
   ]
  },
  {
   "cell_type": "markdown",
   "id": "12e96638-4405-4c1f-95c0-76663756d480",
   "metadata": {},
   "source": [
    "Diesselben Schritte führen wir auch für Niederösterreich durch:"
   ]
  },
  {
   "cell_type": "code",
   "execution_count": 7,
   "id": "d72db6ac-3aa3-452c-b069-89009d4c694d",
   "metadata": {},
   "outputs": [
    {
     "name": "stdout",
     "output_type": "stream",
     "text": [
      "before drop NA-values: 44985\n",
      "after drop NA-values: 44984\n",
      "root\n",
      " |-- location: string (nullable = true)\n",
      " |-- alt: string (nullable = true)\n",
      " |-- deg: string (nullable = true)\n",
      " |-- hum: string (nullable = true)\n",
      " |-- wind_speed: string (nullable = true)\n",
      " |-- wind_speed_max: string (nullable = true)\n",
      " |-- rain: string (nullable = true)\n",
      " |-- sun: string (nullable = true)\n",
      " |-- press: string (nullable = true)\n",
      " |-- timestamp: string (nullable = true)\n",
      "\n",
      "+----------------+----+-----+----+-----------------+--------------+------+-----+----------+-------------------+\n",
      "|        location| alt|  deg| hum|       wind_speed|wind_speed_max|  rain|  sun|     press|          timestamp|\n",
      "+----------------+----+-----+----+-----------------+--------------+------+-----+----------+-------------------+\n",
      "|        Litschau|557m|21.7°|43 %| Nordwest, 8 km/h|       31 km/h|0.0 mm| 86 %|1016.9 hPa|2022-05-21 16:50:03|\n",
      "|          Weitra|570m|21.6°|38 %|    West, 17 km/h|       43 km/h|0.0 mm| 99 %|1016.9 hPa|2022-05-21 16:50:03|\n",
      "|          Zwettl|505m|21.9°|37 %| Nordwest, 5 km/h|       40 km/h|0.0 mm|100 %|1017.2 hPa|2022-05-21 16:50:03|\n",
      "|     Raabs/Thaya|456m|22.5°|39 %|    West, 12 km/h|       32 km/h|0.0 mm| 74 %|1016.4 hPa|2022-05-21 16:50:03|\n",
      "|     Allentsteig|607m|20.7°|39 %|    West, 14 km/h|       43 km/h|0.0 mm| 99 %|1017.0 hPa|2022-05-21 16:50:03|\n",
      "|            Horn|309m|23.3°|36 %|    West, 32 km/h|       50 km/h|0.0 mm|100 %|1014.9 hPa|2022-05-21 16:50:03|\n",
      "|    Gars am Kamp|275m|23.6°|35 %|Nordwest, 23 km/h|       48 km/h|0.0 mm| 99 %|1016.4 hPa|2022-05-21 16:50:03|\n",
      "|      Langenlois|209m|25.4°|30 %|    West, 24 km/h|       43 km/h|0.0 mm|100 %|1017.2 hPa|2022-05-21 16:50:03|\n",
      "|           Krems|203m|25.0°|32 %| Südwest, 17 km/h|       40 km/h|0.0 mm|100 %|1016.7 hPa|2022-05-21 16:50:03|\n",
      "|        Bärnkopf|971m|17.9°|45 %| Südwest, 11 km/h|       45 km/h|0.0 mm| 99 %|      k.A.|2022-05-21 16:50:03|\n",
      "|       Jauerling|961m|18.5°|45 %|    West, 30 km/h|       67 km/h|0.0 mm|100 %|      k.A.|2022-05-21 16:50:03|\n",
      "|            Retz|320m|23.1°|38 %|    West, 25 km/h|       35 km/h|0.0 mm| 65 %|1016.1 hPa|2022-05-21 16:50:03|\n",
      "|Laa an der Thaya|184m|25.3°|34 %|Nordwest, 13 km/h|       39 km/h|0.0 mm|100 %|1016.2 hPa|2022-05-21 16:50:03|\n",
      "|        Poysdorf|206m|24.0°|35 %|    West, 14 km/h|       34 km/h|0.0 mm| 90 %|1016.2 hPa|2022-05-21 16:50:03|\n",
      "|         Hohenau|151m|24.5°|31 %|Nordwest, 16 km/h|       44 km/h|0.0 mm| 91 %|1016.5 hPa|2022-05-21 16:50:03|\n",
      "|    Schöngrabern|251m|23.8°|41 %|Nordwest, 24 km/h|       46 km/h|0.0 mm|100 %|1016.5 hPa|2022-05-21 16:50:03|\n",
      "|    Leiser Berge|458m|22.1°|43 %|Nordwest, 44 km/h|       62 km/h|0.0 mm| 88 %|1016.1 hPa|2022-05-21 16:50:03|\n",
      "|      Mistelbach|190m|24.2°|44 %|    West, 13 km/h|       35 km/h|0.0 mm| 71 %|1016.3 hPa|2022-05-21 16:50:03|\n",
      "|     Wolkersdorf|186m|25.9°|35 %|Nordwest, 12 km/h|       42 km/h|0.0 mm| 97 %|1016.1 hPa|2022-05-21 16:50:03|\n",
      "|       Stockerau|205m|24.9°|31 %|Nordwest, 21 km/h|       49 km/h|0.0 mm|100 %|1016.5 hPa|2022-05-21 16:50:03|\n",
      "+----------------+----+-----+----+-----------------+--------------+------+-----+----------+-------------------+\n",
      "only showing top 20 rows\n",
      "\n"
     ]
    }
   ],
   "source": [
    "spark = SparkSession \\\n",
    "    .builder \\\n",
    "    .appName(\"Read Data\") \\\n",
    "    .getOrCreate()\n",
    "\n",
    "no_raw = spark.read.option(\"delimiter\", \";\").csv(\"../data/zamg/zamg_niederoesterreich.csv\")\n",
    "column_names=[\"location\",\"alt\",'deg', 'hum', 'wind_speed', 'wind_speed_max', 'rain', 'sun', 'press', 'timestamp']\n",
    "no_raw = no_raw.toDF(*column_names)\n",
    "print('before drop NA-values: ' + str(no_raw.count()))\n",
    "no_raw = no_raw.na.drop(subset=[\"location\",\"timestamp\",\"deg\",\"rain\"]) # only one location\n",
    "print('after drop NA-values: ' + str(no_raw.count()))\n",
    "no_raw.printSchema()\n",
    "no_raw.show()"
   ]
  },
  {
   "cell_type": "code",
   "execution_count": 8,
   "id": "d4fb10d5-a139-4210-ad8f-52aa0a5722de",
   "metadata": {},
   "outputs": [
    {
     "name": "stdout",
     "output_type": "stream",
     "text": [
      "root\n",
      " |-- location: string (nullable = true)\n",
      " |-- deg: double (nullable = true)\n",
      " |-- rain: double (nullable = true)\n",
      " |-- timestamp: timestamp (nullable = true)\n",
      "\n",
      "+----------------+----+----+-------------------+\n",
      "|        location| deg|rain|          timestamp|\n",
      "+----------------+----+----+-------------------+\n",
      "|        Litschau|21.7| 0.0|2022-05-21 16:50:03|\n",
      "|          Weitra|21.6| 0.0|2022-05-21 16:50:03|\n",
      "|          Zwettl|21.9| 0.0|2022-05-21 16:50:03|\n",
      "|     Raabs/Thaya|22.5| 0.0|2022-05-21 16:50:03|\n",
      "|     Allentsteig|20.7| 0.0|2022-05-21 16:50:03|\n",
      "|            Horn|23.3| 0.0|2022-05-21 16:50:03|\n",
      "|    Gars am Kamp|23.6| 0.0|2022-05-21 16:50:03|\n",
      "|      Langenlois|25.4| 0.0|2022-05-21 16:50:03|\n",
      "|           Krems|25.0| 0.0|2022-05-21 16:50:03|\n",
      "|        Bärnkopf|17.9| 0.0|2022-05-21 16:50:03|\n",
      "|       Jauerling|18.5| 0.0|2022-05-21 16:50:03|\n",
      "|            Retz|23.1| 0.0|2022-05-21 16:50:03|\n",
      "|Laa an der Thaya|25.3| 0.0|2022-05-21 16:50:03|\n",
      "|        Poysdorf|24.0| 0.0|2022-05-21 16:50:03|\n",
      "|         Hohenau|24.5| 0.0|2022-05-21 16:50:03|\n",
      "|    Schöngrabern|23.8| 0.0|2022-05-21 16:50:03|\n",
      "|    Leiser Berge|22.1| 0.0|2022-05-21 16:50:03|\n",
      "|      Mistelbach|24.2| 0.0|2022-05-21 16:50:03|\n",
      "|     Wolkersdorf|25.9| 0.0|2022-05-21 16:50:03|\n",
      "|       Stockerau|24.9| 0.0|2022-05-21 16:50:03|\n",
      "+----------------+----+----+-------------------+\n",
      "only showing top 20 rows\n",
      "\n"
     ]
    }
   ],
   "source": [
    "# convert strings to correct datatypes\n",
    "## datetime\n",
    "no = no_raw.select(col(\"location\") \\\n",
    "          , substring_index(col(\"deg\"), \"°\", 1).cast('double').alias(\"deg\")  \\\n",
    "          , substring_index(col(\"rain\"), \" mm\", 1).cast('double').alias(\"rain\")  \\\n",
    "          , to_timestamp(col(\"timestamp\"),\"yyyy-MM-dd HH:mm:ss\").alias(\"timestamp\"))\n",
    "no.printSchema()\n",
    "no.show()"
   ]
  },
  {
   "cell_type": "code",
   "execution_count": 9,
   "id": "fa1c7c87-a72f-45f1-af2e-ebcdcb3c0929",
   "metadata": {},
   "outputs": [
    {
     "name": "stdout",
     "output_type": "stream",
     "text": [
      "+--------------------+------------------+------------------+-------------------+-------------------+\n",
      "|            location|         sum(rain)|          avg(deg)|     min(timestamp)|     max(timestamp)|\n",
      "+--------------------+------------------+------------------+-------------------+-------------------+\n",
      "|           Hohe Wand|             139.2|15.111138613861396|2022-05-21 16:50:03|2022-06-24 07:50:04|\n",
      "|         Allentsteig|120.59999999999994|16.172524752475244|2022-05-21 16:50:03|2022-06-24 07:50:04|\n",
      "|          Langenlois| 87.89999999999999|18.902475247524766|2022-05-21 16:50:03|2022-06-24 07:50:04|\n",
      "|            Poysdorf|              37.6|18.888242574257443|2022-05-21 16:50:03|2022-06-24 07:50:04|\n",
      "|                Retz|             119.1|18.424752475247534|2022-05-21 16:50:03|2022-06-24 07:50:04|\n",
      "|      Semmering/Pass| 142.8999999999999|14.390717821782177|2022-05-21 16:50:03|2022-06-24 07:50:04|\n",
      "|          Pottschach| 98.59999999999994|18.552351485148513|2022-05-21 16:50:03|2022-06-24 07:50:04|\n",
      "| Waidhofen a.d. Ybbs|106.49999999999994|17.564480198019808|2022-05-21 16:50:03|2022-06-24 07:50:04|\n",
      "|        Göttlesbrunn|138.19999999999993| 19.47887874837026|2022-05-21 16:50:03|2022-06-24 07:50:04|\n",
      "|       Mönichkirchen| 210.8999999999999|14.974257425742573|2022-05-21 16:50:03|2022-06-24 07:50:04|\n",
      "|              Aspang|138.39999999999992|17.010891089108892|2022-05-21 16:50:03|2022-06-24 07:50:04|\n",
      "|           Zwerndorf| 76.19999999999997|18.960148514851493|2022-05-21 16:50:03|2022-06-24 07:50:04|\n",
      "|     Wiener Neustadt|171.69999999999982|19.161048689138582|2022-05-21 16:50:03|2022-06-24 07:50:04|\n",
      "|     Rax/Bergstation|140.19999999999987|11.142574257425737|2022-05-21 16:50:03|2022-06-24 07:50:04|\n",
      "|Klausen-Leopoldsdorf|102.50000000000004|17.182673267326734|2022-05-21 16:50:03|2022-06-24 07:50:04|\n",
      "|          St. Pölten|135.29999999999998|18.799499374217756|2022-05-21 16:50:03|2022-06-24 07:50:04|\n",
      "|Bad Deutsch-Altenbg.|              68.9|19.716089108910893|2022-05-21 16:50:03|2022-06-24 07:50:04|\n",
      "|              Zwettl| 73.00000000000001| 15.80804455445544|2022-05-21 16:50:03|2022-06-24 07:50:04|\n",
      "|          Bad Vöslau|147.39999999999995| 19.37893432465923|2022-05-21 16:50:03|2022-06-24 07:50:04|\n",
      "|    Laa an der Thaya| 53.30000000000002|18.947896039603982|2022-05-21 16:50:03|2022-06-24 07:50:04|\n",
      "+--------------------+------------------+------------------+-------------------+-------------------+\n",
      "only showing top 20 rows\n",
      "\n"
     ]
    }
   ],
   "source": [
    "no.groupBy(\"location\").agg(sum(\"rain\"),avg('deg'),min('timestamp'),max('timestamp')).show()"
   ]
  },
  {
   "cell_type": "markdown",
   "id": "eaf20ea2-0b13-44d7-9ca5-4ab2c7a6dcc9",
   "metadata": {},
   "source": [
    "### Umrechnen auf Tageswerte:"
   ]
  },
  {
   "cell_type": "code",
   "execution_count": 10,
   "id": "821a35d3-abf9-47c3-9e0e-8775cc1c9194",
   "metadata": {},
   "outputs": [
    {
     "name": "stdout",
     "output_type": "stream",
     "text": [
      "root\n",
      " |-- location: string (nullable = true)\n",
      " |-- date: date (nullable = true)\n",
      " |-- rain: double (nullable = true)\n",
      " |-- deg: double (nullable = true)\n",
      "\n",
      "+-----------+----------+----+----+\n",
      "|   location|      date|rain| deg|\n",
      "+-----------+----------+----+----+\n",
      "|Allentsteig|2022-05-21| 0.0|17.4|\n",
      "|Allentsteig|2022-05-22| 0.0|14.5|\n",
      "|Allentsteig|2022-05-23| 0.0|14.4|\n",
      "|Allentsteig|2022-05-24| 4.6|15.1|\n",
      "|Allentsteig|2022-05-25|16.7|12.5|\n",
      "|Allentsteig|2022-05-26| 0.0|14.8|\n",
      "|Allentsteig|2022-05-27| 0.0|15.4|\n",
      "|Allentsteig|2022-05-28| 0.0|11.8|\n",
      "|Allentsteig|2022-05-29| 9.9| 8.3|\n",
      "|Allentsteig|2022-05-30| 0.0|10.1|\n",
      "|Allentsteig|2022-05-31| 1.7|13.7|\n",
      "|Allentsteig|2022-06-01| 5.8|15.5|\n",
      "|Allentsteig|2022-06-02| 0.2|16.3|\n",
      "|Allentsteig|2022-06-03| 0.0|18.2|\n",
      "|Allentsteig|2022-06-04|21.6|18.6|\n",
      "|Allentsteig|2022-06-05|16.9|18.2|\n",
      "|Allentsteig|2022-06-06| 0.8|18.0|\n",
      "|Allentsteig|2022-06-07|11.8|15.3|\n",
      "|Allentsteig|2022-06-08| 0.3|16.2|\n",
      "|Allentsteig|2022-06-09| 3.5|14.1|\n",
      "+-----------+----------+----+----+\n",
      "only showing top 20 rows\n",
      "\n"
     ]
    }
   ],
   "source": [
    "no = no.withColumn(\"date\",to_date(col(\"timestamp\")))\n",
    "noDay = no.groupBy(\"location\", \"date\").agg(round(sum('rain'), 1), round(avg('deg'), 1))\n",
    "column_names=['location', 'date', 'rain', 'deg']\n",
    "noDay = noDay.toDF(*column_names).sort(\"location\", \"date\")\n",
    "\n",
    "noDay.printSchema()\n",
    "noDay.show()"
   ]
  },
  {
   "cell_type": "markdown",
   "id": "dd14bb72-8544-4215-863b-70b70dac067f",
   "metadata": {},
   "source": [
    "Wir filtern erneut die Stationen heraus, die wir uns später näher ansehen wollen: Krems und Poysdorf und verbinden beide Selektionen zu einem Dataframe."
   ]
  },
  {
   "cell_type": "code",
   "execution_count": 11,
   "id": "0d135f06-6dcc-498c-87ff-c1b608578f89",
   "metadata": {},
   "outputs": [
    {
     "name": "stdout",
     "output_type": "stream",
     "text": [
      "+--------+-----+\n",
      "|location|count|\n",
      "+--------+-----+\n",
      "|   Krems|   35|\n",
      "|Poysdorf|   35|\n",
      "+--------+-----+\n",
      "\n"
     ]
    }
   ],
   "source": [
    "# Filter data by location and join to one table\n",
    "krems = noDay.where(noDay[\"location\"] == \"Krems\")\n",
    "poys =  noDay.where(noDay[\"location\"] == \"Poysdorf\")\n",
    "noUnion = krems.union(poys)\n",
    "noUnion.groupby('location').count().show()"
   ]
  },
  {
   "cell_type": "markdown",
   "id": "49b9a25d-3787-4dc0-b575-de49d44dd498",
   "metadata": {},
   "source": [
    "Abschließend speichern wir nun alle Files lokal in einem hdf5 File, einem weitverbreitetes Datenformat für das Speichern von komplexen, heterogenen Daten."
   ]
  },
  {
   "cell_type": "code",
   "execution_count": 12,
   "id": "2789e782-70c2-43bb-9ca5-32992982eb81",
   "metadata": {},
   "outputs": [
    {
     "name": "stderr",
     "output_type": "stream",
     "text": [
      "/tmp/ipykernel_168/1558406364.py:4: PerformanceWarning: \n",
      "your performance may suffer as PyTables will pickle object types that it cannot\n",
      "map directly to c-types [inferred_type->mixed,key->block1_values] [items->Index(['location', 'date'], dtype='object')]\n",
      "\n",
      "  all.to_hdf('../data/zamg/zamg.h5', key='all', mode='w')\n"
     ]
    }
   ],
   "source": [
    "# union bl and no and save to file\n",
    "all = blUnion.union(noUnion)\n",
    "all = all.toPandas()\n",
    "all.to_hdf('../data/zamg/zamg.h5', key='all', mode='w')"
   ]
  }
 ],
 "metadata": {
  "kernelspec": {
   "display_name": "Python 3 (ipykernel)",
   "language": "python",
   "name": "python3"
  },
  "language_info": {
   "codemirror_mode": {
    "name": "ipython",
    "version": 3
   },
   "file_extension": ".py",
   "mimetype": "text/x-python",
   "name": "python",
   "nbconvert_exporter": "python",
   "pygments_lexer": "ipython3",
   "version": "3.10.4"
  }
 },
 "nbformat": 4,
 "nbformat_minor": 5
}
