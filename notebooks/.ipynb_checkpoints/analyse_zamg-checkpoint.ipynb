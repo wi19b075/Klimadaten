{
 "cells": [
  {
   "cell_type": "markdown",
   "id": "32138a27-1bfd-4c61-b5fc-e95201adf036",
   "metadata": {},
   "source": [
    "# Analyse ZAMG Daten mit Spark"
   ]
  },
  {
   "cell_type": "code",
   "execution_count": 83,
   "id": "ad456a49-e11b-4a9b-8744-fa64d492bf43",
   "metadata": {},
   "outputs": [],
   "source": [
    "from pyspark.sql import SparkSession\n",
    "from pyspark.sql.functions import *\n",
    "\n",
    "import pandas as pd\n",
    "\n",
    "import matplotlib\n",
    "import matplotlib.pyplot as plt\n",
    "import seaborn as sns\n"
   ]
  },
  {
   "cell_type": "markdown",
   "id": "7f24f43d-3e12-444c-a1d9-1194ab67fc00",
   "metadata": {},
   "source": [
    "## Burgenland"
   ]
  },
  {
   "cell_type": "code",
   "execution_count": 20,
   "id": "98a6770e-3c2c-48ae-8d33-76b14aa2b96f",
   "metadata": {},
   "outputs": [
    {
     "name": "stdout",
     "output_type": "stream",
     "text": [
      "before drop NA-values: 8280\n",
      "after drop NA-values: 8280\n",
      "root\n",
      " |-- location: string (nullable = true)\n",
      " |-- alt: string (nullable = true)\n",
      " |-- deg: string (nullable = true)\n",
      " |-- hum: string (nullable = true)\n",
      " |-- wind_speed: string (nullable = true)\n",
      " |-- wind_speed_max: string (nullable = true)\n",
      " |-- rain: string (nullable = true)\n",
      " |-- sun: string (nullable = true)\n",
      " |-- press: string (nullable = true)\n",
      " |-- timestamp: string (nullable = true)\n",
      "\n",
      "+-----------------+----+-----+----+---------------+--------------+------+-----+----------+-------------------+\n",
      "|         location| alt|  deg| hum|     wind_speed|wind_speed_max|  rain|  sun|     press|          timestamp|\n",
      "+-----------------+----+-----+----+---------------+--------------+------+-----+----------+-------------------+\n",
      "|     Bruckneudorf|166m|21.1°|46 %| Südost, 9 km/h|       25 km/h|0.0 mm| 28 %|1007.0 hPa|2022-05-23 19:50:03|\n",
      "|  Neusiedl am See|119m|21.4°|49 %|   Süd, 11 km/h|       27 km/h|0.0 mm| 32 %|1007.3 hPa|2022-05-23 19:50:03|\n",
      "|       Podersdorf|116m|21.8°|44 %|   Süd, 10 km/h|       31 km/h|0.0 mm| 41 %|      n.v.|2022-05-23 19:50:03|\n",
      "|       Eisenstadt|182m|21.6°|45 %|Südost, 19 km/h|       36 km/h|0.0 mm| 97 %|1006.5 hPa|2022-05-23 19:50:03|\n",
      "|            Andau|119m|21.0°|50 %|Südost, 16 km/h|       24 km/h|0.0 mm| 46 %|1007.8 hPa|2022-05-23 19:50:03|\n",
      "|      Mattersburg|284m|20.4°|50 %|   Süd, 13 km/h|       32 km/h|0.0 mm| 43 %|1006.3 hPa|2022-05-23 19:50:03|\n",
      "|  Neudorf/Landsee|429m|18.9°|57 %|   Süd, 12 km/h|       28 km/h|0.0 mm| 71 %|      n.v.|2022-05-23 19:50:03|\n",
      "|    Lutzmannsburg|200m|21.2°|49 %| Südost, 7 km/h|       21 km/h|0.0 mm|100 %|1007.3 hPa|2022-05-23 19:50:03|\n",
      "|        Bernstein|633m|17.9°|63 %|    Süd, 8 km/h|       23 km/h|0.0 mm| 82 %|1007.3 hPa|2022-05-23 19:50:03|\n",
      "|         Rechnitz|309m|20.6°|52 %|   Süd, 11 km/h|       19 km/h|0.0 mm| 59 %|1007.7 hPa|2022-05-23 19:50:03|\n",
      "|Bad Tatzmannsdorf|347m|20.1°|55 %|    Süd, 6 km/h|       16 km/h|0.0 mm| n.v.|      n.v.|2022-05-23 19:50:03|\n",
      "|         Kroisegg|446m|19.7°|60 %|    Süd, 6 km/h|       19 km/h|0.0 mm| 93 %|1007.3 hPa|2022-05-23 19:50:03|\n",
      "|      Kleinzicken|267m|20.8°|51 %|    Süd, 7 km/h|       19 km/h|0.0 mm| 63 %|1007.6 hPa|2022-05-23 19:50:03|\n",
      "|       Wörterberg|404m|19.6°|57 %|    Süd, 7 km/h|       19 km/h|0.0 mm| 94 %|1007.2 hPa|2022-05-23 19:50:03|\n",
      "|          Güssing|217m|21.6°|51 %| Südost, 6 km/h|       16 km/h|0.0 mm| 79 %|1007.2 hPa|2022-05-23 19:50:03|\n",
      "|     Bruckneudorf|166m|20.2°|46 %|Südost, 10 km/h|       25 km/h|0.0 mm| 28 %|1007.3 hPa|2022-05-23 20:50:04|\n",
      "|  Neusiedl am See|119m|20.4°|47 %| Südost, 9 km/h|       23 km/h|0.0 mm| 14 %|1007.6 hPa|2022-05-23 20:50:04|\n",
      "|       Podersdorf|116m|20.9°|47 %|Südost, 12 km/h|       27 km/h|0.0 mm| 32 %|      n.v.|2022-05-23 20:50:04|\n",
      "|       Eisenstadt|182m|20.4°|49 %|   Ost, 16 km/h|       28 km/h|0.0 mm| 36 %|1006.8 hPa|2022-05-23 20:50:04|\n",
      "|            Andau|119m|20.2°|51 %|Südost, 13 km/h|       22 km/h|0.0 mm| 19 %|1008.2 hPa|2022-05-23 20:50:04|\n",
      "+-----------------+----+-----+----+---------------+--------------+------+-----+----------+-------------------+\n",
      "only showing top 20 rows\n",
      "\n"
     ]
    }
   ],
   "source": [
    "spark = SparkSession \\\n",
    "    .builder \\\n",
    "    .appName(\"Read Data\") \\\n",
    "    .getOrCreate()\n",
    "\n",
    "bl_raw = spark.read.option(\"delimiter\", \";\").csv(\"../data/zamg/zamg_burgenland.csv\")\n",
    "column_names=[\"location\",\"alt\",'deg', 'hum', 'wind_speed', 'wind_speed_max', 'rain', 'sun', 'press', 'timestamp']\n",
    "bl_raw = bl_raw.toDF(*column_names)\n",
    "print('before drop NA-values: ' + str(bl_raw.count()))\n",
    "bl_raw = bl_raw.na.drop(subset=[\"location\",\"timestamp\",\"deg\",\"rain\"])\n",
    "print('after drop NA-values: ' + str(bl_raw.count()))\n",
    "bl_raw.printSchema()\n",
    "bl_raw.show()"
   ]
  },
  {
   "cell_type": "code",
   "execution_count": 3,
   "id": "e0752657-678e-49f5-9d7c-ba2aceb361a2",
   "metadata": {},
   "outputs": [
    {
     "name": "stdout",
     "output_type": "stream",
     "text": [
      "root\n",
      " |-- location: string (nullable = true)\n",
      " |-- deg: double (nullable = true)\n",
      " |-- rain: double (nullable = true)\n",
      " |-- timestamp: timestamp (nullable = true)\n",
      "\n",
      "+-----------------+----+----+-------------------+\n",
      "|         location| deg|rain|          timestamp|\n",
      "+-----------------+----+----+-------------------+\n",
      "|     Bruckneudorf|21.1| 0.0|2022-05-23 19:50:03|\n",
      "|  Neusiedl am See|21.4| 0.0|2022-05-23 19:50:03|\n",
      "|       Podersdorf|21.8| 0.0|2022-05-23 19:50:03|\n",
      "|       Eisenstadt|21.6| 0.0|2022-05-23 19:50:03|\n",
      "|            Andau|21.0| 0.0|2022-05-23 19:50:03|\n",
      "|      Mattersburg|20.4| 0.0|2022-05-23 19:50:03|\n",
      "|  Neudorf/Landsee|18.9| 0.0|2022-05-23 19:50:03|\n",
      "|    Lutzmannsburg|21.2| 0.0|2022-05-23 19:50:03|\n",
      "|        Bernstein|17.9| 0.0|2022-05-23 19:50:03|\n",
      "|         Rechnitz|20.6| 0.0|2022-05-23 19:50:03|\n",
      "|Bad Tatzmannsdorf|20.1| 0.0|2022-05-23 19:50:03|\n",
      "|         Kroisegg|19.7| 0.0|2022-05-23 19:50:03|\n",
      "|      Kleinzicken|20.8| 0.0|2022-05-23 19:50:03|\n",
      "|       Wörterberg|19.6| 0.0|2022-05-23 19:50:03|\n",
      "|          Güssing|21.6| 0.0|2022-05-23 19:50:03|\n",
      "|     Bruckneudorf|20.2| 0.0|2022-05-23 20:50:04|\n",
      "|  Neusiedl am See|20.4| 0.0|2022-05-23 20:50:04|\n",
      "|       Podersdorf|20.9| 0.0|2022-05-23 20:50:04|\n",
      "|       Eisenstadt|20.4| 0.0|2022-05-23 20:50:04|\n",
      "|            Andau|20.2| 0.0|2022-05-23 20:50:04|\n",
      "+-----------------+----+----+-------------------+\n",
      "only showing top 20 rows\n",
      "\n"
     ]
    }
   ],
   "source": [
    "# convert strings to correct datatypes\n",
    "## datetime\n",
    "bl = bl_raw.select(col(\"location\") \\\n",
    "          , substring_index(col(\"deg\"), \"°\", 1).cast('double').alias(\"deg\")  \\\n",
    "          , substring_index(col(\"rain\"), \" mm\", 1).cast('double').alias(\"rain\")  \\\n",
    "          , to_timestamp(col(\"timestamp\"),\"yyyy-MM-dd HH:mm:ss\").alias(\"timestamp\"))\n",
    "bl.printSchema()\n",
    "bl.show()"
   ]
  },
  {
   "cell_type": "code",
   "execution_count": 4,
   "id": "fb575dfc-e21e-4e28-85d1-8cfd96d809d0",
   "metadata": {},
   "outputs": [
    {
     "name": "stdout",
     "output_type": "stream",
     "text": [
      "+-----------------+------------------+------------------+-------------------+-------------------+\n",
      "|         location|         sum(rain)|          avg(deg)|     min(timestamp)|     max(timestamp)|\n",
      "+-----------------+------------------+------------------+-------------------+-------------------+\n",
      "|  Neudorf/Landsee|109.49999999999997|17.607246376811606|2022-05-23 19:50:03|2022-06-15 18:50:03|\n",
      "|          Güssing|             128.7|18.877536231884072|2022-05-23 19:50:03|2022-06-15 18:50:03|\n",
      "|       Wörterberg|104.19999999999999| 17.78097826086957|2022-05-23 19:50:03|2022-06-15 18:50:03|\n",
      "|Bad Tatzmannsdorf|114.60000000000001|18.276811594202915|2022-05-23 19:50:03|2022-06-15 18:50:03|\n",
      "|        Bernstein|             134.6|16.415398550724632|2022-05-23 19:50:03|2022-06-15 18:50:03|\n",
      "|    Lutzmannsburg|147.99999999999997|18.611594202898534|2022-05-23 19:50:03|2022-06-15 18:50:03|\n",
      "|      Mattersburg|113.59999999999997|18.376992753623178|2022-05-23 19:50:03|2022-06-15 18:50:03|\n",
      "|         Rechnitz|             144.6|18.339311594202893|2022-05-23 19:50:03|2022-06-15 18:50:03|\n",
      "|         Kroisegg|             165.7|17.399275362318832|2022-05-23 19:50:03|2022-06-15 18:50:03|\n",
      "|      Kleinzicken|105.60000000000001|18.354891304347845|2022-05-23 19:50:03|2022-06-15 18:50:03|\n",
      "|  Neusiedl am See| 62.00000000000001| 19.23684210526314|2022-05-23 19:50:03|2022-06-15 18:50:03|\n",
      "|            Andau| 99.39999999999996|19.391666666666673|2022-05-23 19:50:03|2022-06-15 18:50:03|\n",
      "|     Bruckneudorf| 61.50000000000001| 18.91014492753621|2022-05-23 19:50:03|2022-06-15 18:50:03|\n",
      "|       Podersdorf| 71.69999999999997|19.561775362318848|2022-05-23 19:50:03|2022-06-15 18:50:03|\n",
      "|       Eisenstadt| 69.59999999999998|18.979347826086947|2022-05-23 19:50:03|2022-06-15 18:50:03|\n",
      "+-----------------+------------------+------------------+-------------------+-------------------+\n",
      "\n"
     ]
    }
   ],
   "source": [
    "bl.groupBy(\"location\").agg(sum(\"rain\"),avg('deg'),min('timestamp'),max('timestamp')).show()"
   ]
  },
  {
   "cell_type": "markdown",
   "id": "4b1ee747-aa52-4188-b565-f9d1be8f5d90",
   "metadata": {},
   "source": [
    "Umrechnen auf Tageswerte:"
   ]
  },
  {
   "cell_type": "code",
   "execution_count": 54,
   "id": "35d9fd51-cc2f-4905-a70f-c2494fa5f096",
   "metadata": {},
   "outputs": [
    {
     "name": "stdout",
     "output_type": "stream",
     "text": [
      "root\n",
      " |-- location: string (nullable = true)\n",
      " |-- date: date (nullable = true)\n",
      " |-- rain: double (nullable = true)\n",
      " |-- deg: double (nullable = true)\n",
      "\n",
      "+--------+----------+----+----+\n",
      "|location|      date|rain| deg|\n",
      "+--------+----------+----+----+\n",
      "|   Andau|2022-05-23| 0.0|19.1|\n",
      "|   Andau|2022-05-24| 7.9|18.7|\n",
      "|   Andau|2022-05-25| 1.8|17.6|\n",
      "|   Andau|2022-05-26| 0.2|18.4|\n",
      "|   Andau|2022-05-27| 0.0|21.2|\n",
      "|   Andau|2022-05-28| 0.0|17.2|\n",
      "|   Andau|2022-05-29| 0.0|12.9|\n",
      "|   Andau|2022-05-30| 0.0|14.3|\n",
      "|   Andau|2022-05-31| 0.0|16.8|\n",
      "|   Andau|2022-06-01|11.4|20.0|\n",
      "|   Andau|2022-06-02| 5.0|20.3|\n",
      "|   Andau|2022-06-03| 0.0|22.2|\n",
      "|   Andau|2022-06-04|10.9|24.5|\n",
      "|   Andau|2022-06-05| 0.0|22.9|\n",
      "|   Andau|2022-06-06|35.6|21.2|\n",
      "|   Andau|2022-06-07| 0.0|20.7|\n",
      "|   Andau|2022-06-08|12.1|19.5|\n",
      "|   Andau|2022-06-09|14.0|18.2|\n",
      "|   Andau|2022-06-10| 0.5|18.3|\n",
      "|   Andau|2022-06-11| 0.0|21.2|\n",
      "+--------+----------+----+----+\n",
      "only showing top 20 rows\n",
      "\n"
     ]
    }
   ],
   "source": [
    "bl = bl.withColumn(\"date\",to_date(col(\"timestamp\")))\n",
    "blDay = bl.groupBy(\"location\", \"date\").agg(round(sum('rain'), 1), round(avg('deg'), 1))\n",
    "column_names=['location', 'date', 'rain', 'deg']\n",
    "blDay = blDay.toDF(*column_names).sort(\"location\", \"date\")\n",
    "\n",
    "blDay.printSchema()\n",
    "blDay.show()"
   ]
  },
  {
   "cell_type": "code",
   "execution_count": 55,
   "id": "05e1dd77-2555-4d4f-9fe0-dfeb57271a6f",
   "metadata": {},
   "outputs": [],
   "source": [
    "# Filter data by location and join to one table\n",
    "guess = blDay.where(blDay[\"location\"] == \"Güssing\")\n",
    "neus =  blDay.where(blDay[\"location\"] == \"Neusiedl am See\")\n",
    "blUnion = guess.union(neus)\n",
    "blUnion.groupby('location').count().show()"
   ]
  },
  {
   "cell_type": "markdown",
   "id": "246913cd-b536-427d-82bd-10ffacd9571e",
   "metadata": {},
   "source": [
    "## Niederösterreich"
   ]
  },
  {
   "cell_type": "code",
   "execution_count": 25,
   "id": "d72db6ac-3aa3-452c-b069-89009d4c694d",
   "metadata": {},
   "outputs": [
    {
     "name": "stdout",
     "output_type": "stream",
     "text": [
      "before drop NA-values: 33505\n",
      "after drop NA-values: 33504\n",
      "root\n",
      " |-- location: string (nullable = true)\n",
      " |-- alt: string (nullable = true)\n",
      " |-- deg: string (nullable = true)\n",
      " |-- hum: string (nullable = true)\n",
      " |-- wind_speed: string (nullable = true)\n",
      " |-- wind_speed_max: string (nullable = true)\n",
      " |-- rain: string (nullable = true)\n",
      " |-- sun: string (nullable = true)\n",
      " |-- press: string (nullable = true)\n",
      " |-- timestamp: string (nullable = true)\n",
      "\n",
      "+----------------+----+-----+----+-----------------+--------------+------+-----+----------+-------------------+\n",
      "|        location| alt|  deg| hum|       wind_speed|wind_speed_max|  rain|  sun|     press|          timestamp|\n",
      "+----------------+----+-----+----+-----------------+--------------+------+-----+----------+-------------------+\n",
      "|        Litschau|557m|21.7°|43 %| Nordwest, 8 km/h|       31 km/h|0.0 mm| 86 %|1016.9 hPa|2022-05-21 16:50:03|\n",
      "|          Weitra|570m|21.6°|38 %|    West, 17 km/h|       43 km/h|0.0 mm| 99 %|1016.9 hPa|2022-05-21 16:50:03|\n",
      "|          Zwettl|505m|21.9°|37 %| Nordwest, 5 km/h|       40 km/h|0.0 mm|100 %|1017.2 hPa|2022-05-21 16:50:03|\n",
      "|     Raabs/Thaya|456m|22.5°|39 %|    West, 12 km/h|       32 km/h|0.0 mm| 74 %|1016.4 hPa|2022-05-21 16:50:03|\n",
      "|     Allentsteig|607m|20.7°|39 %|    West, 14 km/h|       43 km/h|0.0 mm| 99 %|1017.0 hPa|2022-05-21 16:50:03|\n",
      "|            Horn|309m|23.3°|36 %|    West, 32 km/h|       50 km/h|0.0 mm|100 %|1014.9 hPa|2022-05-21 16:50:03|\n",
      "|    Gars am Kamp|275m|23.6°|35 %|Nordwest, 23 km/h|       48 km/h|0.0 mm| 99 %|1016.4 hPa|2022-05-21 16:50:03|\n",
      "|      Langenlois|209m|25.4°|30 %|    West, 24 km/h|       43 km/h|0.0 mm|100 %|1017.2 hPa|2022-05-21 16:50:03|\n",
      "|           Krems|203m|25.0°|32 %| Südwest, 17 km/h|       40 km/h|0.0 mm|100 %|1016.7 hPa|2022-05-21 16:50:03|\n",
      "|        Bärnkopf|971m|17.9°|45 %| Südwest, 11 km/h|       45 km/h|0.0 mm| 99 %|      k.A.|2022-05-21 16:50:03|\n",
      "|       Jauerling|961m|18.5°|45 %|    West, 30 km/h|       67 km/h|0.0 mm|100 %|      k.A.|2022-05-21 16:50:03|\n",
      "|            Retz|320m|23.1°|38 %|    West, 25 km/h|       35 km/h|0.0 mm| 65 %|1016.1 hPa|2022-05-21 16:50:03|\n",
      "|Laa an der Thaya|184m|25.3°|34 %|Nordwest, 13 km/h|       39 km/h|0.0 mm|100 %|1016.2 hPa|2022-05-21 16:50:03|\n",
      "|        Poysdorf|206m|24.0°|35 %|    West, 14 km/h|       34 km/h|0.0 mm| 90 %|1016.2 hPa|2022-05-21 16:50:03|\n",
      "|         Hohenau|151m|24.5°|31 %|Nordwest, 16 km/h|       44 km/h|0.0 mm| 91 %|1016.5 hPa|2022-05-21 16:50:03|\n",
      "|    Schöngrabern|251m|23.8°|41 %|Nordwest, 24 km/h|       46 km/h|0.0 mm|100 %|1016.5 hPa|2022-05-21 16:50:03|\n",
      "|    Leiser Berge|458m|22.1°|43 %|Nordwest, 44 km/h|       62 km/h|0.0 mm| 88 %|1016.1 hPa|2022-05-21 16:50:03|\n",
      "|      Mistelbach|190m|24.2°|44 %|    West, 13 km/h|       35 km/h|0.0 mm| 71 %|1016.3 hPa|2022-05-21 16:50:03|\n",
      "|     Wolkersdorf|186m|25.9°|35 %|Nordwest, 12 km/h|       42 km/h|0.0 mm| 97 %|1016.1 hPa|2022-05-21 16:50:03|\n",
      "|       Stockerau|205m|24.9°|31 %|Nordwest, 21 km/h|       49 km/h|0.0 mm|100 %|1016.5 hPa|2022-05-21 16:50:03|\n",
      "+----------------+----+-----+----+-----------------+--------------+------+-----+----------+-------------------+\n",
      "only showing top 20 rows\n",
      "\n"
     ]
    }
   ],
   "source": [
    "spark = SparkSession \\\n",
    "    .builder \\\n",
    "    .appName(\"Read Data\") \\\n",
    "    .getOrCreate()\n",
    "\n",
    "no_raw = spark.read.option(\"delimiter\", \";\").csv(\"../data/zamg/zamg_niederoesterreich.csv\")\n",
    "column_names=[\"location\",\"alt\",'deg', 'hum', 'wind_speed', 'wind_speed_max', 'rain', 'sun', 'press', 'timestamp']\n",
    "no_raw = no_raw.toDF(*column_names)\n",
    "print('before drop NA-values: ' + str(no_raw.count()))\n",
    "no_raw = no_raw.na.drop(subset=[\"location\",\"timestamp\",\"deg\",\"rain\"]) # only one location\n",
    "print('after drop NA-values: ' + str(no_raw.count()))\n",
    "no_raw.printSchema()\n",
    "no_raw.show()"
   ]
  },
  {
   "cell_type": "code",
   "execution_count": 26,
   "id": "d4fb10d5-a139-4210-ad8f-52aa0a5722de",
   "metadata": {},
   "outputs": [
    {
     "name": "stdout",
     "output_type": "stream",
     "text": [
      "root\n",
      " |-- location: string (nullable = true)\n",
      " |-- deg: double (nullable = true)\n",
      " |-- rain: double (nullable = true)\n",
      " |-- timestamp: timestamp (nullable = true)\n",
      "\n",
      "+----------------+----+----+-------------------+\n",
      "|        location| deg|rain|          timestamp|\n",
      "+----------------+----+----+-------------------+\n",
      "|        Litschau|21.7| 0.0|2022-05-21 16:50:03|\n",
      "|          Weitra|21.6| 0.0|2022-05-21 16:50:03|\n",
      "|          Zwettl|21.9| 0.0|2022-05-21 16:50:03|\n",
      "|     Raabs/Thaya|22.5| 0.0|2022-05-21 16:50:03|\n",
      "|     Allentsteig|20.7| 0.0|2022-05-21 16:50:03|\n",
      "|            Horn|23.3| 0.0|2022-05-21 16:50:03|\n",
      "|    Gars am Kamp|23.6| 0.0|2022-05-21 16:50:03|\n",
      "|      Langenlois|25.4| 0.0|2022-05-21 16:50:03|\n",
      "|           Krems|25.0| 0.0|2022-05-21 16:50:03|\n",
      "|        Bärnkopf|17.9| 0.0|2022-05-21 16:50:03|\n",
      "|       Jauerling|18.5| 0.0|2022-05-21 16:50:03|\n",
      "|            Retz|23.1| 0.0|2022-05-21 16:50:03|\n",
      "|Laa an der Thaya|25.3| 0.0|2022-05-21 16:50:03|\n",
      "|        Poysdorf|24.0| 0.0|2022-05-21 16:50:03|\n",
      "|         Hohenau|24.5| 0.0|2022-05-21 16:50:03|\n",
      "|    Schöngrabern|23.8| 0.0|2022-05-21 16:50:03|\n",
      "|    Leiser Berge|22.1| 0.0|2022-05-21 16:50:03|\n",
      "|      Mistelbach|24.2| 0.0|2022-05-21 16:50:03|\n",
      "|     Wolkersdorf|25.9| 0.0|2022-05-21 16:50:03|\n",
      "|       Stockerau|24.9| 0.0|2022-05-21 16:50:03|\n",
      "+----------------+----+----+-------------------+\n",
      "only showing top 20 rows\n",
      "\n"
     ]
    }
   ],
   "source": [
    "# convert strings to correct datatypes\n",
    "## datetime\n",
    "no = no_raw.select(col(\"location\") \\\n",
    "          , substring_index(col(\"deg\"), \"°\", 1).cast('double').alias(\"deg\")  \\\n",
    "          , substring_index(col(\"rain\"), \" mm\", 1).cast('double').alias(\"rain\")  \\\n",
    "          , to_timestamp(col(\"timestamp\"),\"yyyy-MM-dd HH:mm:ss\").alias(\"timestamp\"))\n",
    "no.printSchema()\n",
    "no.show()"
   ]
  },
  {
   "cell_type": "code",
   "execution_count": 27,
   "id": "fa1c7c87-a72f-45f1-af2e-ebcdcb3c0929",
   "metadata": {},
   "outputs": [
    {
     "name": "stdout",
     "output_type": "stream",
     "text": [
      "+--------------------+------------------+------------------+-------------------+-------------------+\n",
      "|            location|         sum(rain)|          avg(deg)|     min(timestamp)|     max(timestamp)|\n",
      "+--------------------+------------------+------------------+-------------------+-------------------+\n",
      "|           Hohe Wand|             124.5|  14.0698175787728|2022-05-21 16:50:03|2022-06-15 18:50:02|\n",
      "|         Allentsteig|108.59999999999998| 15.22703150912106|2022-05-21 16:50:03|2022-06-15 18:50:02|\n",
      "|          Langenlois| 78.29999999999997|18.194195688225555|2022-05-21 16:50:03|2022-06-15 18:50:02|\n",
      "|            Poysdorf|35.300000000000004|18.203482587064713|2022-05-21 16:50:03|2022-06-15 18:50:02|\n",
      "|                Retz|             112.0|17.600000000000012|2022-05-21 16:50:03|2022-06-15 18:50:02|\n",
      "|      Semmering/Pass|136.19999999999993| 13.56451077943616|2022-05-21 16:50:03|2022-06-15 18:50:02|\n",
      "|          Pottschach| 93.09999999999997|17.731343283582085|2022-05-21 16:50:03|2022-06-15 18:50:02|\n",
      "| Waidhofen a.d. Ybbs| 89.09999999999995|16.504477611940295|2022-05-21 16:50:03|2022-06-15 18:50:02|\n",
      "|        Göttlesbrunn|137.29999999999995| 18.82491103202846|2022-05-21 16:50:03|2022-06-15 18:50:02|\n",
      "|       Mönichkirchen|191.29999999999998| 14.16500829187396|2022-05-21 16:50:03|2022-06-15 18:50:02|\n",
      "|              Aspang|128.89999999999995| 16.36467661691542|2022-05-21 16:50:03|2022-06-15 18:50:02|\n",
      "|           Zwerndorf|              65.7|18.293864013266997|2022-05-21 16:50:03|2022-06-15 18:50:02|\n",
      "|     Wiener Neustadt|159.09999999999982|18.387919463087254|2022-05-21 16:50:03|2022-06-15 18:50:02|\n",
      "|     Rax/Bergstation|134.99999999999991| 9.887230514096187|2022-05-21 16:50:03|2022-06-15 18:50:02|\n",
      "|Klausen-Leopoldsdorf| 95.30000000000005|16.426368159203967|2022-05-21 16:50:03|2022-06-15 18:50:02|\n",
      "|          St. Pölten|126.30000000000003|17.984641068447385|2022-05-21 16:50:03|2022-06-15 18:50:02|\n",
      "|Bad Deutsch-Altenbg.| 62.40000000000002| 18.86733001658376|2022-05-21 16:50:03|2022-06-15 18:50:02|\n",
      "|              Zwettl| 62.00000000000003|15.054892205638469|2022-05-21 16:50:03|2022-06-15 18:50:02|\n",
      "|          Bad Vöslau|124.29999999999995| 18.69136212624586|2022-05-21 16:50:03|2022-06-15 18:50:02|\n",
      "|    Laa an der Thaya|48.100000000000016| 18.21475953565507|2022-05-21 16:50:03|2022-06-15 18:50:02|\n",
      "+--------------------+------------------+------------------+-------------------+-------------------+\n",
      "only showing top 20 rows\n",
      "\n"
     ]
    }
   ],
   "source": [
    "no.groupBy(\"location\").agg(sum(\"rain\"),avg('deg'),min('timestamp'),max('timestamp')).show()"
   ]
  },
  {
   "cell_type": "markdown",
   "id": "eaf20ea2-0b13-44d7-9ca5-4ab2c7a6dcc9",
   "metadata": {},
   "source": [
    "Umrechnen auf Tageswerte:"
   ]
  },
  {
   "cell_type": "code",
   "execution_count": 28,
   "id": "821a35d3-abf9-47c3-9e0e-8775cc1c9194",
   "metadata": {},
   "outputs": [
    {
     "name": "stdout",
     "output_type": "stream",
     "text": [
      "root\n",
      " |-- location: string (nullable = true)\n",
      " |-- date: date (nullable = true)\n",
      " |-- rain: double (nullable = true)\n",
      " |-- deg: double (nullable = true)\n",
      "\n",
      "+-----------+----------+----+----+\n",
      "|   location|      date|rain| deg|\n",
      "+-----------+----------+----+----+\n",
      "|Allentsteig|2022-05-21| 0.0|17.4|\n",
      "|Allentsteig|2022-05-22| 0.0|14.5|\n",
      "|Allentsteig|2022-05-23| 0.0|14.4|\n",
      "|Allentsteig|2022-05-24| 4.6|15.1|\n",
      "|Allentsteig|2022-05-25|16.7|12.5|\n",
      "|Allentsteig|2022-05-26| 0.0|14.8|\n",
      "|Allentsteig|2022-05-27| 0.0|15.4|\n",
      "|Allentsteig|2022-05-28| 0.0|11.8|\n",
      "|Allentsteig|2022-05-29| 9.9| 8.3|\n",
      "|Allentsteig|2022-05-30| 0.0|10.1|\n",
      "|Allentsteig|2022-05-31| 1.7|13.7|\n",
      "|Allentsteig|2022-06-01| 5.8|15.5|\n",
      "|Allentsteig|2022-06-02| 0.2|16.3|\n",
      "|Allentsteig|2022-06-03| 0.0|18.2|\n",
      "|Allentsteig|2022-06-04|21.6|18.6|\n",
      "|Allentsteig|2022-06-05|16.9|18.2|\n",
      "|Allentsteig|2022-06-06| 0.8|18.0|\n",
      "|Allentsteig|2022-06-07|11.8|15.3|\n",
      "|Allentsteig|2022-06-08| 0.3|16.2|\n",
      "|Allentsteig|2022-06-09| 3.5|14.1|\n",
      "+-----------+----------+----+----+\n",
      "only showing top 20 rows\n",
      "\n"
     ]
    }
   ],
   "source": [
    "no = no.withColumn(\"date\",to_date(col(\"timestamp\")))\n",
    "noDay = no.groupBy(\"location\", \"date\").agg(round(sum('rain'), 1), round(avg('deg'), 1))\n",
    "column_names=['location', 'date', 'rain', 'deg']\n",
    "noDay = noDay.toDF(*column_names).sort(\"location\", \"date\")\n",
    "\n",
    "noDay.printSchema()\n",
    "noDay.show()"
   ]
  },
  {
   "cell_type": "code",
   "execution_count": 63,
   "id": "0d135f06-6dcc-498c-87ff-c1b608578f89",
   "metadata": {},
   "outputs": [
    {
     "name": "stdout",
     "output_type": "stream",
     "text": [
      "+--------+-----+\n",
      "|location|count|\n",
      "+--------+-----+\n",
      "|   Krems|   26|\n",
      "|Poysdorf|   26|\n",
      "+--------+-----+\n",
      "\n"
     ]
    }
   ],
   "source": [
    "# Filter data by location and join to one table\n",
    "krems = noDay.where(noDay[\"location\"] == \"Krems\")\n",
    "poys =  noDay.where(noDay[\"location\"] == \"Poysdorf\")\n",
    "noUnion = krems.union(poys)\n",
    "noUnion.groupby('location').count().show()"
   ]
  },
  {
   "cell_type": "code",
   "execution_count": 68,
   "id": "2789e782-70c2-43bb-9ca5-32992982eb81",
   "metadata": {},
   "outputs": [
    {
     "name": "stderr",
     "output_type": "stream",
     "text": [
      "/tmp/ipykernel_71/1558406364.py:4: PerformanceWarning: \n",
      "your performance may suffer as PyTables will pickle object types that it cannot\n",
      "map directly to c-types [inferred_type->mixed,key->block1_values] [items->Index(['location', 'date'], dtype='object')]\n",
      "\n",
      "  all.to_hdf('../data/zamg/zamg.h5', key='all', mode='w')\n"
     ]
    }
   ],
   "source": [
    "# union bl and no and save to file\n",
    "all = blUnion.union(noUnion)\n",
    "all = all.toPandas()\n",
    "all.to_hdf('../data/zamg/zamg.h5', key='all', mode='w')"
   ]
  },
  {
   "cell_type": "code",
   "execution_count": 69,
   "id": "938578e7-4d8c-4c74-b816-23e340f3ca38",
   "metadata": {},
   "outputs": [
    {
     "data": {
      "text/html": [
       "<div>\n",
       "<style scoped>\n",
       "    .dataframe tbody tr th:only-of-type {\n",
       "        vertical-align: middle;\n",
       "    }\n",
       "\n",
       "    .dataframe tbody tr th {\n",
       "        vertical-align: top;\n",
       "    }\n",
       "\n",
       "    .dataframe thead th {\n",
       "        text-align: right;\n",
       "    }\n",
       "</style>\n",
       "<table border=\"1\" class=\"dataframe\">\n",
       "  <thead>\n",
       "    <tr style=\"text-align: right;\">\n",
       "      <th></th>\n",
       "      <th>location</th>\n",
       "      <th>date</th>\n",
       "      <th>rain</th>\n",
       "      <th>deg</th>\n",
       "    </tr>\n",
       "  </thead>\n",
       "  <tbody>\n",
       "    <tr>\n",
       "      <th>0</th>\n",
       "      <td>Güssing</td>\n",
       "      <td>2022-05-23</td>\n",
       "      <td>0.0</td>\n",
       "      <td>19.6</td>\n",
       "    </tr>\n",
       "    <tr>\n",
       "      <th>1</th>\n",
       "      <td>Güssing</td>\n",
       "      <td>2022-05-24</td>\n",
       "      <td>15.1</td>\n",
       "      <td>19.7</td>\n",
       "    </tr>\n",
       "    <tr>\n",
       "      <th>2</th>\n",
       "      <td>Güssing</td>\n",
       "      <td>2022-05-25</td>\n",
       "      <td>16.5</td>\n",
       "      <td>17.6</td>\n",
       "    </tr>\n",
       "    <tr>\n",
       "      <th>3</th>\n",
       "      <td>Güssing</td>\n",
       "      <td>2022-05-26</td>\n",
       "      <td>0.0</td>\n",
       "      <td>18.1</td>\n",
       "    </tr>\n",
       "    <tr>\n",
       "      <th>4</th>\n",
       "      <td>Güssing</td>\n",
       "      <td>2022-05-27</td>\n",
       "      <td>12.0</td>\n",
       "      <td>20.1</td>\n",
       "    </tr>\n",
       "    <tr>\n",
       "      <th>...</th>\n",
       "      <td>...</td>\n",
       "      <td>...</td>\n",
       "      <td>...</td>\n",
       "      <td>...</td>\n",
       "    </tr>\n",
       "    <tr>\n",
       "      <th>95</th>\n",
       "      <td>Poysdorf</td>\n",
       "      <td>2022-06-11</td>\n",
       "      <td>0.0</td>\n",
       "      <td>20.4</td>\n",
       "    </tr>\n",
       "    <tr>\n",
       "      <th>96</th>\n",
       "      <td>Poysdorf</td>\n",
       "      <td>2022-06-12</td>\n",
       "      <td>0.0</td>\n",
       "      <td>21.2</td>\n",
       "    </tr>\n",
       "    <tr>\n",
       "      <th>97</th>\n",
       "      <td>Poysdorf</td>\n",
       "      <td>2022-06-13</td>\n",
       "      <td>0.1</td>\n",
       "      <td>18.4</td>\n",
       "    </tr>\n",
       "    <tr>\n",
       "      <th>98</th>\n",
       "      <td>Poysdorf</td>\n",
       "      <td>2022-06-14</td>\n",
       "      <td>0.0</td>\n",
       "      <td>17.2</td>\n",
       "    </tr>\n",
       "    <tr>\n",
       "      <th>99</th>\n",
       "      <td>Poysdorf</td>\n",
       "      <td>2022-06-15</td>\n",
       "      <td>0.0</td>\n",
       "      <td>17.9</td>\n",
       "    </tr>\n",
       "  </tbody>\n",
       "</table>\n",
       "<p>100 rows × 4 columns</p>\n",
       "</div>"
      ],
      "text/plain": [
       "    location        date  rain   deg\n",
       "0    Güssing  2022-05-23   0.0  19.6\n",
       "1    Güssing  2022-05-24  15.1  19.7\n",
       "2    Güssing  2022-05-25  16.5  17.6\n",
       "3    Güssing  2022-05-26   0.0  18.1\n",
       "4    Güssing  2022-05-27  12.0  20.1\n",
       "..       ...         ...   ...   ...\n",
       "95  Poysdorf  2022-06-11   0.0  20.4\n",
       "96  Poysdorf  2022-06-12   0.0  21.2\n",
       "97  Poysdorf  2022-06-13   0.1  18.4\n",
       "98  Poysdorf  2022-06-14   0.0  17.2\n",
       "99  Poysdorf  2022-06-15   0.0  17.9\n",
       "\n",
       "[100 rows x 4 columns]"
      ]
     },
     "execution_count": 69,
     "metadata": {},
     "output_type": "execute_result"
    }
   ],
   "source": [
    "t = pd.read_hdf('../data/zamg/zamg.h5') \n",
    "t"
   ]
  }
 ],
 "metadata": {
  "kernelspec": {
   "display_name": "Python 3 (ipykernel)",
   "language": "python",
   "name": "python3"
  },
  "language_info": {
   "codemirror_mode": {
    "name": "ipython",
    "version": 3
   },
   "file_extension": ".py",
   "mimetype": "text/x-python",
   "name": "python",
   "nbconvert_exporter": "python",
   "pygments_lexer": "ipython3",
   "version": "3.10.4"
  }
 },
 "nbformat": 4,
 "nbformat_minor": 5
}
