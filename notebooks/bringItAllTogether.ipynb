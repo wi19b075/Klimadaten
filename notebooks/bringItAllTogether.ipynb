{
 "cells": [
  {
   "cell_type": "code",
   "execution_count": 2,
   "id": "114899d9-7b7a-475b-a012-0adaba21ddcb",
   "metadata": {},
   "outputs": [],
   "source": [
    "import pandas as pd\n",
    "\n",
    "import matplotlib\n",
    "import matplotlib.pyplot as plt\n",
    "import seaborn as sns"
   ]
  },
  {
   "cell_type": "markdown",
   "id": "f06bad1d-051d-4dcc-92e0-a9f4743dc3d1",
   "metadata": {},
   "source": [
    "# Einlesen aller HDF5-Files"
   ]
  },
  {
   "cell_type": "code",
   "execution_count": 8,
   "id": "f246c8cc-253f-4dbd-a4ae-f250f4bb70ea",
   "metadata": {},
   "outputs": [
    {
     "name": "stdout",
     "output_type": "stream",
     "text": [
      "location            object\n",
      "date        datetime64[ns]\n",
      "rain               float64\n",
      "deg                float64\n",
      "dtype: object\n",
      "    location       date  rain   deg\n",
      "0    Güssing 2022-05-23   0.0  19.6\n",
      "1    Güssing 2022-05-24  15.1  19.7\n",
      "2    Güssing 2022-05-25  16.5  17.6\n",
      "3    Güssing 2022-05-26   0.0  18.1\n",
      "4    Güssing 2022-05-27  12.0  20.1\n",
      "..       ...        ...   ...   ...\n",
      "95  Poysdorf 2022-06-11   0.0  20.4\n",
      "96  Poysdorf 2022-06-12   0.0  21.2\n",
      "97  Poysdorf 2022-06-13   0.1  18.4\n",
      "98  Poysdorf 2022-06-14   0.0  17.2\n",
      "99  Poysdorf 2022-06-15   0.0  17.9\n",
      "\n",
      "[100 rows x 4 columns]\n"
     ]
    }
   ],
   "source": [
    "zamg = pd.read_hdf('../data/zamg/zamg.h5') \n",
    "zamg[\"date\"] = pd.to_datetime(zamg[\"date\"])\n",
    "print(zamg.dtypes)\n",
    "print(zamg)"
   ]
  },
  {
   "cell_type": "code",
   "execution_count": 19,
   "id": "1a4cc9a1-4fd9-4617-ae80-69a95237bfd6",
   "metadata": {},
   "outputs": [
    {
     "name": "stdout",
     "output_type": "stream",
     "text": [
      "SOUID             int64\n",
      "DATE     datetime64[ns]\n",
      "RR                int64\n",
      "name             object\n",
      "dtype: object\n",
      "        SOUID       DATE  RR     name\n",
      "0      234717 1936-01-02   1    KREMS\n",
      "1      234717 1936-01-03   3    KREMS\n",
      "2      234717 1936-01-04  44    KREMS\n",
      "3      234717 1936-01-05  11    KREMS\n",
      "4      234717 1936-01-06   0    KREMS\n",
      "...       ...        ...  ..      ...\n",
      "99910  236251 2021-12-27   0  GÜSSING\n",
      "99911  236251 2021-12-28  41  GÜSSING\n",
      "99912  236251 2021-12-29   6  GÜSSING\n",
      "99913  236251 2021-12-30   1  GÜSSING\n",
      "99914  236251 2021-12-31   0  GÜSSING\n",
      "\n",
      "[99915 rows x 4 columns]\n",
      "SOUID             int64\n",
      "DATE     datetime64[ns]\n",
      "TG                int64\n",
      "name             object\n",
      "dtype: object\n",
      "        SOUID       DATE  TG     name\n",
      "0      234722 1936-01-01  38    KREMS\n",
      "1      234722 1936-01-02  33    KREMS\n",
      "2      234722 1936-01-03  34    KREMS\n",
      "3      234722 1936-01-04  51    KREMS\n",
      "4      234722 1936-01-05  36    KREMS\n",
      "...       ...        ...  ..      ...\n",
      "98455  236256 2021-12-27  12  GÜSSING\n",
      "98456  236256 2021-12-28  11  GÜSSING\n",
      "98457  236256 2021-12-29  50  GÜSSING\n",
      "98458  236256 2021-12-30  62  GÜSSING\n",
      "98459  236256 2021-12-31  84  GÜSSING\n",
      "\n",
      "[98460 rows x 4 columns]\n"
     ]
    }
   ],
   "source": [
    "ecadRR = pd.read_hdf('../data/ecad/RR.h5') \n",
    "ecadRR[\"DATE\"] = pd.to_datetime(ecadRR[\"DATE\"], format='%Y%m%d')\n",
    "\n",
    "# add station name\n",
    "ecadRR.loc[ecadRR[\"SOUID\"] == 234717 , \"name\"] = \"KREMS\"\n",
    "ecadRR.loc[ecadRR[\"SOUID\"] == 234938 , \"name\"] = \"NEUSIEDL AM SEE\"\n",
    "ecadRR.loc[ecadRR[\"SOUID\"] == 235003 , \"name\"] = \"POYSDORF\"\n",
    "ecadRR.loc[ecadRR[\"SOUID\"] == 236251 , \"name\"] = \"GÜSSING\"\n",
    "\n",
    "print(ecadRR.dtypes)\n",
    "print(ecadRR)\n",
    "\n",
    "ecadTG = pd.read_hdf('../data/ecad/TG.h5') \n",
    "ecadTG[\"DATE\"] = pd.to_datetime(ecadTG[\"DATE\"], format='%Y%m%d')\n",
    "\n",
    "# add station name\n",
    "ecadTG.loc[ecadTG[\"SOUID\"] == 234722 , \"name\"] = \"KREMS\"\n",
    "ecadTG.loc[ecadTG[\"SOUID\"] == 234943 , \"name\"] = \"NEUSIEDL AM SEE\"\n",
    "ecadTG.loc[ecadTG[\"SOUID\"] == 235008 , \"name\"] = \"POYSDORF\"\n",
    "ecadTG.loc[ecadTG[\"SOUID\"] == 236256 , \"name\"] = \"GÜSSING\"\n",
    "\n",
    "print(ecadTG.dtypes)\n",
    "print(ecadTG)"
   ]
  },
  {
   "cell_type": "code",
   "execution_count": 16,
   "id": "62766bab-299b-4982-8797-bfb6e4b56fa9",
   "metadata": {},
   "outputs": [
    {
     "data": {
      "text/plain": [
       "array(['KREMS', 'NEUSIEDL AM SEE', 'POYSDORF', 'GÜSSING'], dtype=object)"
      ]
     },
     "execution_count": 16,
     "metadata": {},
     "output_type": "execute_result"
    }
   ],
   "source": []
  },
  {
   "cell_type": "markdown",
   "id": "4f65af49-f83a-4dfb-8afe-11bffa8857c5",
   "metadata": {},
   "source": [
    "# Basis-Visualisierung für alle Datensätze\n",
    "## GeDaBa Gemeinden im Umkreis der Wetterstationnen\n",
    "# ZAMG-Vergleich mit ECAD Temperatur-Daten und Regen\n",
    "# GeDaBa-Daten (ausgewählte Gemeinden) und ECAD-Daten beschreiben"
   ]
  },
  {
   "cell_type": "code",
   "execution_count": null,
   "id": "714b0fee-1ecf-4735-aafe-04b9dff25e7f",
   "metadata": {},
   "outputs": [],
   "source": []
  }
 ],
 "metadata": {
  "kernelspec": {
   "display_name": "Python 3 (ipykernel)",
   "language": "python",
   "name": "python3"
  },
  "language_info": {
   "codemirror_mode": {
    "name": "ipython",
    "version": 3
   },
   "file_extension": ".py",
   "mimetype": "text/x-python",
   "name": "python",
   "nbconvert_exporter": "python",
   "pygments_lexer": "ipython3",
   "version": "3.10.4"
  }
 },
 "nbformat": 4,
 "nbformat_minor": 5
}
