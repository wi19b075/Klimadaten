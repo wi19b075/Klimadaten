{
 "cells": [
  {
   "cell_type": "markdown",
   "id": "32138a27-1bfd-4c61-b5fc-e95201adf036",
   "metadata": {},
   "source": [
    "# Analyse ZAMG Daten mit Spark"
   ]
  },
  {
   "cell_type": "code",
   "execution_count": 1,
   "id": "ad456a49-e11b-4a9b-8744-fa64d492bf43",
   "metadata": {},
   "outputs": [],
   "source": [
    "from pyspark.sql import SparkSession\n",
    "from pyspark.sql.functions import *"
   ]
  },
  {
   "cell_type": "code",
   "execution_count": 2,
   "id": "98a6770e-3c2c-48ae-8d33-76b14aa2b96f",
   "metadata": {},
   "outputs": [
    {
     "name": "stdout",
     "output_type": "stream",
     "text": [
      "root\n",
      " |-- location: string (nullable = true)\n",
      " |-- alt: string (nullable = true)\n",
      " |-- deg: string (nullable = true)\n",
      " |-- hum: string (nullable = true)\n",
      " |-- wind_speed: string (nullable = true)\n",
      " |-- wind_speed_max: string (nullable = true)\n",
      " |-- rain: string (nullable = true)\n",
      " |-- sun: string (nullable = true)\n",
      " |-- press: string (nullable = true)\n",
      " |-- timestamp: string (nullable = true)\n",
      "\n",
      "+-----------------+----+-----+----+---------------+--------------+------+-----+----------+-------------------+\n",
      "|         location| alt|  deg| hum|     wind_speed|wind_speed_max|  rain|  sun|     press|          timestamp|\n",
      "+-----------------+----+-----+----+---------------+--------------+------+-----+----------+-------------------+\n",
      "|     Bruckneudorf|166m|21.1°|46 %| Südost, 9 km/h|       25 km/h|0.0 mm| 28 %|1007.0 hPa|2022-05-23 19:50:03|\n",
      "|  Neusiedl am See|119m|21.4°|49 %|   Süd, 11 km/h|       27 km/h|0.0 mm| 32 %|1007.3 hPa|2022-05-23 19:50:03|\n",
      "|       Podersdorf|116m|21.8°|44 %|   Süd, 10 km/h|       31 km/h|0.0 mm| 41 %|      n.v.|2022-05-23 19:50:03|\n",
      "|       Eisenstadt|182m|21.6°|45 %|Südost, 19 km/h|       36 km/h|0.0 mm| 97 %|1006.5 hPa|2022-05-23 19:50:03|\n",
      "|            Andau|119m|21.0°|50 %|Südost, 16 km/h|       24 km/h|0.0 mm| 46 %|1007.8 hPa|2022-05-23 19:50:03|\n",
      "|      Mattersburg|284m|20.4°|50 %|   Süd, 13 km/h|       32 km/h|0.0 mm| 43 %|1006.3 hPa|2022-05-23 19:50:03|\n",
      "|  Neudorf/Landsee|429m|18.9°|57 %|   Süd, 12 km/h|       28 km/h|0.0 mm| 71 %|      n.v.|2022-05-23 19:50:03|\n",
      "|    Lutzmannsburg|200m|21.2°|49 %| Südost, 7 km/h|       21 km/h|0.0 mm|100 %|1007.3 hPa|2022-05-23 19:50:03|\n",
      "|        Bernstein|633m|17.9°|63 %|    Süd, 8 km/h|       23 km/h|0.0 mm| 82 %|1007.3 hPa|2022-05-23 19:50:03|\n",
      "|         Rechnitz|309m|20.6°|52 %|   Süd, 11 km/h|       19 km/h|0.0 mm| 59 %|1007.7 hPa|2022-05-23 19:50:03|\n",
      "|Bad Tatzmannsdorf|347m|20.1°|55 %|    Süd, 6 km/h|       16 km/h|0.0 mm| n.v.|      n.v.|2022-05-23 19:50:03|\n",
      "|         Kroisegg|446m|19.7°|60 %|    Süd, 6 km/h|       19 km/h|0.0 mm| 93 %|1007.3 hPa|2022-05-23 19:50:03|\n",
      "|      Kleinzicken|267m|20.8°|51 %|    Süd, 7 km/h|       19 km/h|0.0 mm| 63 %|1007.6 hPa|2022-05-23 19:50:03|\n",
      "|       Wörterberg|404m|19.6°|57 %|    Süd, 7 km/h|       19 km/h|0.0 mm| 94 %|1007.2 hPa|2022-05-23 19:50:03|\n",
      "|          Güssing|217m|21.6°|51 %| Südost, 6 km/h|       16 km/h|0.0 mm| 79 %|1007.2 hPa|2022-05-23 19:50:03|\n",
      "|     Bruckneudorf|166m|20.2°|46 %|Südost, 10 km/h|       25 km/h|0.0 mm| 28 %|1007.3 hPa|2022-05-23 20:50:04|\n",
      "|  Neusiedl am See|119m|20.4°|47 %| Südost, 9 km/h|       23 km/h|0.0 mm| 14 %|1007.6 hPa|2022-05-23 20:50:04|\n",
      "|       Podersdorf|116m|20.9°|47 %|Südost, 12 km/h|       27 km/h|0.0 mm| 32 %|      n.v.|2022-05-23 20:50:04|\n",
      "|       Eisenstadt|182m|20.4°|49 %|   Ost, 16 km/h|       28 km/h|0.0 mm| 36 %|1006.8 hPa|2022-05-23 20:50:04|\n",
      "|            Andau|119m|20.2°|51 %|Südost, 13 km/h|       22 km/h|0.0 mm| 19 %|1008.2 hPa|2022-05-23 20:50:04|\n",
      "+-----------------+----+-----+----+---------------+--------------+------+-----+----------+-------------------+\n",
      "only showing top 20 rows\n",
      "\n"
     ]
    }
   ],
   "source": [
    "spark = SparkSession \\\n",
    "    .builder \\\n",
    "    .appName(\"Read Data\") \\\n",
    "    .getOrCreate()\n",
    "\n",
    "df_raw = spark.read.option(\"delimiter\", \";\").csv(\"../data/zamg/zamg_burgenland.csv\")\n",
    "column_names=[\"location\",\"alt\",'deg', 'hum', 'wind_speed', 'wind_speed_max', 'rain', 'sun', 'press', 'timestamp']\n",
    "df_raw = df_raw.toDF(*column_names)\n",
    "df_raw.printSchema()\n",
    "df_raw.show()"
   ]
  },
  {
   "cell_type": "code",
   "execution_count": 3,
   "id": "e0752657-678e-49f5-9d7c-ba2aceb361a2",
   "metadata": {},
   "outputs": [
    {
     "name": "stdout",
     "output_type": "stream",
     "text": [
      "root\n",
      " |-- location: string (nullable = true)\n",
      " |-- deg: double (nullable = true)\n",
      " |-- rain: double (nullable = true)\n",
      " |-- timestamp: timestamp (nullable = true)\n",
      "\n",
      "+-----------------+----+----+-------------------+\n",
      "|         location| deg|rain|          timestamp|\n",
      "+-----------------+----+----+-------------------+\n",
      "|     Bruckneudorf|21.1| 0.0|2022-05-23 19:50:03|\n",
      "|  Neusiedl am See|21.4| 0.0|2022-05-23 19:50:03|\n",
      "|       Podersdorf|21.8| 0.0|2022-05-23 19:50:03|\n",
      "|       Eisenstadt|21.6| 0.0|2022-05-23 19:50:03|\n",
      "|            Andau|21.0| 0.0|2022-05-23 19:50:03|\n",
      "|      Mattersburg|20.4| 0.0|2022-05-23 19:50:03|\n",
      "|  Neudorf/Landsee|18.9| 0.0|2022-05-23 19:50:03|\n",
      "|    Lutzmannsburg|21.2| 0.0|2022-05-23 19:50:03|\n",
      "|        Bernstein|17.9| 0.0|2022-05-23 19:50:03|\n",
      "|         Rechnitz|20.6| 0.0|2022-05-23 19:50:03|\n",
      "|Bad Tatzmannsdorf|20.1| 0.0|2022-05-23 19:50:03|\n",
      "|         Kroisegg|19.7| 0.0|2022-05-23 19:50:03|\n",
      "|      Kleinzicken|20.8| 0.0|2022-05-23 19:50:03|\n",
      "|       Wörterberg|19.6| 0.0|2022-05-23 19:50:03|\n",
      "|          Güssing|21.6| 0.0|2022-05-23 19:50:03|\n",
      "|     Bruckneudorf|20.2| 0.0|2022-05-23 20:50:04|\n",
      "|  Neusiedl am See|20.4| 0.0|2022-05-23 20:50:04|\n",
      "|       Podersdorf|20.9| 0.0|2022-05-23 20:50:04|\n",
      "|       Eisenstadt|20.4| 0.0|2022-05-23 20:50:04|\n",
      "|            Andau|20.2| 0.0|2022-05-23 20:50:04|\n",
      "+-----------------+----+----+-------------------+\n",
      "only showing top 20 rows\n",
      "\n"
     ]
    }
   ],
   "source": [
    "# convert strings to correct datatypes\n",
    "## datetime\n",
    "df = df_raw.select(col(\"location\") \\\n",
    "          , substring_index(col(\"deg\"), \"°\", 1).cast('double').alias(\"deg\")  \\\n",
    "          , substring_index(col(\"rain\"), \" mm\", 1).cast('double').alias(\"rain\")  \\\n",
    "          , to_timestamp(col(\"timestamp\"),\"yyyy-MM-dd HH:mm:ss\").alias(\"timestamp\"))\n",
    "df.printSchema()\n",
    "df.show()"
   ]
  },
  {
   "cell_type": "code",
   "execution_count": 4,
   "id": "fb575dfc-e21e-4e28-85d1-8cfd96d809d0",
   "metadata": {},
   "outputs": [
    {
     "name": "stdout",
     "output_type": "stream",
     "text": [
      "+-----------------+------------------+------------------+-------------------+-------------------+\n",
      "|         location|         sum(rain)|          avg(deg)|     min(timestamp)|     max(timestamp)|\n",
      "+-----------------+------------------+------------------+-------------------+-------------------+\n",
      "|  Neudorf/Landsee| 53.50000000000001| 15.66851063829787|2022-05-23 19:50:03|2022-06-02 13:50:03|\n",
      "|          Güssing| 49.00000000000001| 16.75531914893617|2022-05-23 19:50:03|2022-06-02 13:50:03|\n",
      "|       Wörterberg|56.800000000000004|15.670212765957451|2022-05-23 19:50:03|2022-06-02 13:50:03|\n",
      "|Bad Tatzmannsdorf| 60.40000000000001| 16.31914893617022|2022-05-23 19:50:03|2022-06-02 13:50:03|\n",
      "|        Bernstein| 76.50000000000001|14.379999999999999|2022-05-23 19:50:03|2022-06-02 13:50:03|\n",
      "|    Lutzmannsburg| 70.00000000000001|16.628510638297872|2022-05-23 19:50:03|2022-06-02 13:50:03|\n",
      "|      Mattersburg| 40.20000000000001|16.528936170212763|2022-05-23 19:50:03|2022-06-02 13:50:03|\n",
      "|         Rechnitz| 46.90000000000001|16.187659574468093|2022-05-23 19:50:03|2022-06-02 13:50:03|\n",
      "|         Kroisegg|              74.7|15.378723404255313|2022-05-23 19:50:03|2022-06-02 13:50:03|\n",
      "|      Kleinzicken| 46.10000000000001| 16.21063829787234|2022-05-23 19:50:03|2022-06-02 13:50:03|\n",
      "|  Neusiedl am See|14.899999999999993|17.443162393162382|2022-05-23 19:50:03|2022-06-02 13:50:03|\n",
      "|            Andau|26.299999999999994|17.535319148936168|2022-05-23 19:50:03|2022-06-02 13:50:03|\n",
      "|     Bruckneudorf|              11.7|17.169787234042566|2022-05-23 19:50:03|2022-06-02 13:50:03|\n",
      "|       Podersdorf|              20.2|17.748085106382977|2022-05-23 19:50:03|2022-06-02 13:50:03|\n",
      "|       Eisenstadt|              18.9| 17.21234042553192|2022-05-23 19:50:03|2022-06-02 13:50:03|\n",
      "+-----------------+------------------+------------------+-------------------+-------------------+\n",
      "\n"
     ]
    }
   ],
   "source": [
    "df.groupBy(\"location\").agg(sum(\"rain\"),avg('deg'),min('timestamp'),max('timestamp')).show()"
   ]
  },
  {
   "cell_type": "code",
   "execution_count": 5,
   "id": "35d9fd51-cc2f-4905-a70f-c2494fa5f096",
   "metadata": {},
   "outputs": [],
   "source": [
    "df = df.withColumn(\"date\",to_date(col(\"timestamp\")))\n",
    "dfDay = df.groupBy(\"location\", \"date\").agg(round(sum('rain'), 1), round(avg('deg'), 1))"
   ]
  },
  {
   "cell_type": "code",
   "execution_count": 6,
   "id": "dd079032-ffc3-48c7-8fec-2bdf963516dc",
   "metadata": {},
   "outputs": [
    {
     "name": "stdout",
     "output_type": "stream",
     "text": [
      "root\n",
      " |-- location: string (nullable = true)\n",
      " |-- date: date (nullable = true)\n",
      " |-- rain: double (nullable = true)\n",
      " |-- deg: double (nullable = true)\n",
      "\n"
     ]
    }
   ],
   "source": [
    "column_names=['location', 'date', 'rain', 'deg']\n",
    "dfDay = dfDay.toDF(*column_names)\n",
    "\n",
    "dfDay.printSchema()"
   ]
  },
  {
   "cell_type": "code",
   "execution_count": 7,
   "id": "2ce05f63-71ad-4392-a8a1-537f27e0070f",
   "metadata": {},
   "outputs": [
    {
     "name": "stdout",
     "output_type": "stream",
     "text": [
      "+-----------------+----------+----+----+\n",
      "|         location|      date|rain| deg|\n",
      "+-----------------+----------+----+----+\n",
      "|  Neudorf/Landsee|2022-05-25| 6.7|15.2|\n",
      "|       Eisenstadt|2022-05-26| 0.0|19.0|\n",
      "|     Bruckneudorf|2022-05-29| 0.0|12.9|\n",
      "|Bad Tatzmannsdorf|2022-05-29| 6.9|10.4|\n",
      "|    Lutzmannsburg|2022-06-01| 1.4|19.6|\n",
      "|Bad Tatzmannsdorf|2022-06-02|10.3|18.0|\n",
      "|  Neusiedl am See|2022-05-26| 0.2|18.4|\n",
      "|      Mattersburg|2022-05-29| 2.9|10.9|\n",
      "|  Neusiedl am See|2022-05-27| 0.0|21.7|\n",
      "|  Neusiedl am See|2022-05-28| 0.0|16.3|\n",
      "|    Lutzmannsburg|2022-05-29| 7.0|11.2|\n",
      "|     Bruckneudorf|2022-05-23| 0.0|19.5|\n",
      "|            Andau|2022-05-23| 0.0|19.1|\n",
      "|  Neusiedl am See|2022-05-24| 2.1|18.5|\n",
      "|         Rechnitz|2022-06-01| 0.7|19.3|\n",
      "|          Güssing|2022-05-30| 0.0|11.3|\n",
      "|          Güssing|2022-05-24|15.1|19.7|\n",
      "|         Kroisegg|2022-05-28| 0.0|14.3|\n",
      "|       Podersdorf|2022-05-30| 0.0|14.6|\n",
      "|Bad Tatzmannsdorf|2022-05-27| 0.0|19.8|\n",
      "+-----------------+----------+----+----+\n",
      "only showing top 20 rows\n",
      "\n"
     ]
    }
   ],
   "source": [
    "dfDay.show()"
   ]
  },
  {
   "cell_type": "code",
   "execution_count": null,
   "id": "1b84c7da-206b-423a-a1a3-9b5373b744a2",
   "metadata": {},
   "outputs": [],
   "source": []
  }
 ],
 "metadata": {
  "kernelspec": {
   "display_name": "Python 3 (ipykernel)",
   "language": "python",
   "name": "python3"
  },
  "language_info": {
   "codemirror_mode": {
    "name": "ipython",
    "version": 3
   },
   "file_extension": ".py",
   "mimetype": "text/x-python",
   "name": "python",
   "nbconvert_exporter": "python",
   "pygments_lexer": "ipython3",
   "version": "3.10.4"
  }
 },
 "nbformat": 4,
 "nbformat_minor": 5
}
