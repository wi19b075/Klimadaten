{
 "cells": [
  {
   "cell_type": "code",
   "execution_count": 1,
   "id": "30d97ac3-bea0-41d2-be4f-52fb07db6f44",
   "metadata": {},
   "outputs": [],
   "source": [
    "# load important libraries\n",
    "from time import sleep\n",
    "import json\n",
    "from json import dumps\n",
    "from IPython.display import clear_output\n",
    "from sseclient import SSEClient as EventSource\n",
    "from kafka import KafkaProducer"
   ]
  },
  {
   "cell_type": "code",
   "execution_count": 2,
   "id": "0fe06a07-24c4-4a34-a588-b12e00110f8a",
   "metadata": {},
   "outputs": [
    {
     "name": "stdout",
     "output_type": "stream",
     "text": [
      "\n",
      "\n",
      "\n",
      "\n",
      "\n",
      "\n",
      "\n",
      "\n",
      "\n",
      "\n",
      "\n",
      "\n",
      "\n",
      "\n",
      "\n",
      "\n",
      "\n",
      "\n",
      "\n",
      "\n",
      "\n",
      "\n",
      "\n",
      "\n",
      "\n",
      "\n",
      "\n",
      "process interrupted\n"
     ]
    }
   ],
   "source": [
    "# Create producer\n",
    "producer = KafkaProducer(\n",
    "    bootstrap_servers='localhost:29092', #Kafka server\n",
    "    value_serializer=lambda v: json.dumps(v).encode('utf-8') #json serializer\n",
    "    )\n",
    "\n",
    "# Read streaming event\n",
    "url = 'https://www.zamg.ac.at/cms/de/wetter/wetterwerte-analysen/niederoesterreich'\n",
    "try:\n",
    "    for event in EventSource(url):\n",
    "        if event.event == 'message':\n",
    "            try:\n",
    "                change = json.loads(event.data)\n",
    "            except ValueError:\n",
    "                pass\n",
    "            else:\n",
    "                #Send msg to topic wiki-changes and wait 5 seconds\n",
    "                clear_output(wait=True)\n",
    "                print(\"captured a change: \", change)\n",
    "                producer.send('zamg-update', change)\n",
    "                sleep(5)\n",
    "\n",
    "except KeyboardInterrupt:\n",
    "    print(\"process interrupted\")"
   ]
  },
  {
   "cell_type": "code",
   "execution_count": null,
   "id": "6f56999a-03fc-4692-815b-bad899e1f735",
   "metadata": {},
   "outputs": [],
   "source": [
    "\n"
   ]
  }
 ],
 "metadata": {
  "kernelspec": {
   "display_name": "Python 3 (ipykernel)",
   "language": "python",
   "name": "python3"
  },
  "language_info": {
   "codemirror_mode": {
    "name": "ipython",
    "version": 3
   },
   "file_extension": ".py",
   "mimetype": "text/x-python",
   "name": "python",
   "nbconvert_exporter": "python",
   "pygments_lexer": "ipython3",
   "version": "3.9.7"
  }
 },
 "nbformat": 4,
 "nbformat_minor": 5
}
