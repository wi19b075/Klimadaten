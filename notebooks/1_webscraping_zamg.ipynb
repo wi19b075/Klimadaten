{
 "cells": [
  {
   "cell_type": "markdown",
   "id": "8569add2-6d90-4aee-bada-4b294f69a044",
   "metadata": {},
   "source": [
    "# Webscraping ZAMG Daten"
   ]
  },
  {
   "cell_type": "markdown",
   "id": "14179bad-0b57-49a9-b8a1-f1afff59a55f",
   "metadata": {},
   "source": [
    "## Einleitung"
   ]
  },
  {
   "cell_type": "markdown",
   "id": "b0e4326a-1791-4144-987a-16eeec394535",
   "metadata": {},
   "source": [
    "Um für unser Projekt aktuelle Wetterdaten zu erhalten, haben wir von der Seite Zamg... etc. via Webscraping unsere Daten gewonnen:\n",
    " da wir uns für unsere Endauswertung für 4 Wetterstationen in Niederösterreich und Burgenland interessieren, haben wir sowohl die Seite von Niederösterreich als auch die Seite von Burgenland verwendet.\n",
    " \n",
    " \n",
    "weiterer Text zu den Daten...."
   ]
  },
  {
   "cell_type": "markdown",
   "id": "e0de85ec-9738-44ac-908c-1a8d2e7502ef",
   "metadata": {},
   "source": [
    "## Datenmanagement"
   ]
  },
  {
   "cell_type": "markdown",
   "id": "22a629ca-7c3f-4434-840d-355dafd43d66",
   "metadata": {},
   "source": [
    "Zunächst werden die notwenigen Librariers geladen."
   ]
  },
  {
   "cell_type": "code",
   "execution_count": 8,
   "id": "efdfd54d-5196-4263-b5a9-d409e9876584",
   "metadata": {},
   "outputs": [],
   "source": [
    "from urllib.request import urlopen\n",
    "from bs4 import BeautifulSoup\n",
    "import re\n",
    "import csv\n",
    "#import psycopg2\n",
    "import pandas as pd\n",
    "import datetime as dt"
   ]
  },
  {
   "cell_type": "markdown",
   "id": "07dc4069-81c4-4caf-886a-2dd263c93aa8",
   "metadata": {},
   "source": [
    "Nun wird die Url erzeugt - hier am Beispiel für Niederösterreich (analog wurde mit Burgenland verfahren) - und Beautiful Soap übergeben."
   ]
  },
  {
   "cell_type": "code",
   "execution_count": null,
   "id": "6775aeab-43a7-43ac-86d5-1ca5d35e26ee",
   "metadata": {},
   "outputs": [],
   "source": [
    "html = urlopen('https://www.zamg.ac.at/cms/de/wetter/wetterwerte-analysen/niederoesterreich')\n",
    "#html = urlopen('https://www.zamg.ac.at/cms/de/wetter/wetterwerte-analysen/burgenland')\n",
    "bs = BeautifulSoup(html, 'html.parser')\n",
    "#print(bs)"
   ]
  },
  {
   "cell_type": "markdown",
   "id": "0650fc31-55cc-47e2-a9fe-343715ded35b",
   "metadata": {},
   "source": [
    "Anschließend wir durch die Seite navigiert, bis wir die richtige Tabelle finden."
   ]
  },
  {
   "cell_type": "code",
   "execution_count": 10,
   "id": "fb385856-5c01-4ed7-b23f-ec8a7225380b",
   "metadata": {},
   "outputs": [],
   "source": [
    "table = bs.find('table', attrs={'class':'dynPageTable'})\n",
    "table_body = table.find('tbody')\n",
    "#print(table)"
   ]
  },
  {
   "cell_type": "code",
   "execution_count": 11,
   "id": "ff9e7f9c-4cb9-4feb-a477-c8e0fe203ff6",
   "metadata": {},
   "outputs": [],
   "source": [
    "data = []\n",
    "rows = bs.find_all(\"tr\", {\"class\": {\"dynPageTableLine2\", \"dynPageTableLine1\"}})\n",
    "#print(mydivs)\n",
    "for row in rows:\n",
    "    cols = row.find_all('td')\n",
    "    cols = [ele.text.strip() for ele in cols] # get rid of html elements\n",
    "    data.append([ele for ele in cols])"
   ]
  },
  {
   "cell_type": "markdown",
   "id": "1afb8dfd-7f96-4d02-9cb3-fd7e17bc9d07",
   "metadata": {},
   "source": [
    "Das Ergebnis wird in einem Panda-Dataframe gespeichert spreichern und nach csv konvertiert."
   ]
  },
  {
   "cell_type": "code",
   "execution_count": 12,
   "id": "eedca069-2db6-47af-88ca-889844939ce1",
   "metadata": {},
   "outputs": [],
   "source": [
    "df = pd.DataFrame(data)\n",
    "df.columns = ['location', 'height', 'temp', 'hum', 'wind', 'wind_max', 'rain', 'sun', 'press' ]\n",
    "df['timestamp'] = pd.Series([dt.datetime.now().strftime(\"%Y-%m-%d %H:%M:%S\")] * len(df))"
   ]
  },
  {
   "cell_type": "code",
   "execution_count": 13,
   "id": "5d30138e-93db-4a59-bfaf-b5ad2ba3cc34",
   "metadata": {},
   "outputs": [],
   "source": [
    "df.to_csv('zamg.csv', sep=\";\", encoding=\"utf-8\", index=False, mode='a', header=False)"
   ]
  },
  {
   "cell_type": "markdown",
   "id": "539fd5a2-4672-4976-956c-50b0cbf8a249",
   "metadata": {},
   "source": [
    "Dieser Code lief auf einem Linuxsystem einmal pro Stunde über einen Zeitraum von 21.5.2022 bis 24.06.2022 für Niederösterreich sowie vom 25.5.2022 bis 24.6.2022 für Burgenland, um die aktuellen Wetterdaten aus dem Burgenland und Niederöstereich zu aggregieren."
   ]
  }
 ],
 "metadata": {
  "kernelspec": {
   "display_name": "Python 3 (ipykernel)",
   "language": "python",
   "name": "python3"
  },
  "language_info": {
   "codemirror_mode": {
    "name": "ipython",
    "version": 3
   },
   "file_extension": ".py",
   "mimetype": "text/x-python",
   "name": "python",
   "nbconvert_exporter": "python",
   "pygments_lexer": "ipython3",
   "version": "3.10.4"
  }
 },
 "nbformat": 4,
 "nbformat_minor": 5
}
